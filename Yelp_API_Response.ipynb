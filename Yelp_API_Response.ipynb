{
 "cells": [
  {
   "cell_type": "code",
   "execution_count": 1,
   "metadata": {},
   "outputs": [],
   "source": [
    "#Importing necessary modules\n",
    "import os\n",
    "import csv\n",
    "import requests\n",
    "import pandas as pd\n",
    "import numpy as np\n",
    "import json\n",
    "import matplotlib.pyplot as plt\n",
    "from pprint import pprint\n",
    "#Setting up parameters for the API Key\n",
    "api_key='KMXu7o4jj9H_5fBmmoxcQUXUcjaIiDMpnabg34SZhyJUQPt-H6y8sfBIq8jI65xOovUH7cKhDpTUnvK2UIFOf1r5864boyx0PCcIwR4QQ1OeR8IWr5RO7UxW3HJoXXYx'\n",
    "headers = {'Authorization': 'Bearer %s' % api_key}\n",
    "#Defining the Business Search end point url\n",
    "url='https://api.yelp.com/v3/businesses/search'"
   ]
  },
  {
   "cell_type": "code",
   "execution_count": null,
   "metadata": {},
   "outputs": [],
   "source": [
    "# In the dictionary, term can take values like food, cafes or businesses like McDonalds\n",
    "# Pulling Restaurant reviews for 4 major Cities \n",
    "cities =['New York','San Francisco','Houston','Chicago']\n",
    "restaurants = []\n",
    "for city in cities:\n",
    "    #Pulling 1000 responses for each City ( as 1000 is the allowed limit)\n",
    "        for offset in range(0,1000,50):\n",
    "            params = {'term':'restaurants','location':city,'sort_by':'distance','limit':50, 'offset':offset}\n",
    "            response = requests.get(url, params=params, headers=headers).json()\n",
    "            restaurants.append(dict(response))"
   ]
  },
  {
   "cell_type": "code",
   "execution_count": 3,
   "metadata": {},
   "outputs": [],
   "source": [
    "# pprint(restaurants[1])"
   ]
  },
  {
   "cell_type": "code",
   "execution_count": 4,
   "metadata": {},
   "outputs": [],
   "source": [
    "#Defining empty dictionary to save only required elements\n",
    "final = {}\n",
    "#Defining Empty list to append all the data \n",
    "data = []\n",
    "\n",
    "for restaurant in restaurants:\n",
    "    try:\n",
    "        for item in restaurant['businesses']:\n",
    "            final['Restaurant Name'] = item['name']\n",
    "            final['City'] = item['location']['city']\n",
    "            final['Rating'] = item['rating']\n",
    "            final['Reviews'] = item['review_count']\n",
    "            try:\n",
    "                final['Price'] = item['price']\n",
    "            except:\n",
    "                final['Price'] = float('nan')\n",
    "            data.append(dict(final))\n",
    "    except:   \n",
    "        restaurant['businesses'] = float('nan')"
   ]
  },
  {
   "cell_type": "code",
   "execution_count": 5,
   "metadata": {},
   "outputs": [
    {
     "data": {
      "text/html": [
       "<div>\n",
       "<style scoped>\n",
       "    .dataframe tbody tr th:only-of-type {\n",
       "        vertical-align: middle;\n",
       "    }\n",
       "\n",
       "    .dataframe tbody tr th {\n",
       "        vertical-align: top;\n",
       "    }\n",
       "\n",
       "    .dataframe thead th {\n",
       "        text-align: right;\n",
       "    }\n",
       "</style>\n",
       "<table border=\"1\" class=\"dataframe\">\n",
       "  <thead>\n",
       "    <tr style=\"text-align: right;\">\n",
       "      <th></th>\n",
       "      <th>City</th>\n",
       "      <th>Price</th>\n",
       "      <th>Rating</th>\n",
       "      <th>Restaurant Name</th>\n",
       "      <th>Reviews</th>\n",
       "    </tr>\n",
       "  </thead>\n",
       "  <tbody>\n",
       "    <tr>\n",
       "      <th>0</th>\n",
       "      <td>Brooklyn</td>\n",
       "      <td>$</td>\n",
       "      <td>4.5</td>\n",
       "      <td>Born &amp; Raised NYC</td>\n",
       "      <td>6</td>\n",
       "    </tr>\n",
       "    <tr>\n",
       "      <th>1</th>\n",
       "      <td>New York</td>\n",
       "      <td>NaN</td>\n",
       "      <td>4.0</td>\n",
       "      <td>Landhaus</td>\n",
       "      <td>1</td>\n",
       "    </tr>\n",
       "    <tr>\n",
       "      <th>2</th>\n",
       "      <td>Brooklyn</td>\n",
       "      <td>$$</td>\n",
       "      <td>4.0</td>\n",
       "      <td>Luke's Lobster Brooklyn Bridge Park</td>\n",
       "      <td>303</td>\n",
       "    </tr>\n",
       "    <tr>\n",
       "      <th>3</th>\n",
       "      <td>Brooklyn</td>\n",
       "      <td>$$$</td>\n",
       "      <td>4.0</td>\n",
       "      <td>Sugarcane Raw Bar Grill</td>\n",
       "      <td>508</td>\n",
       "    </tr>\n",
       "    <tr>\n",
       "      <th>4</th>\n",
       "      <td>Brooklyn</td>\n",
       "      <td>$</td>\n",
       "      <td>3.5</td>\n",
       "      <td>Calexico Taco / Burrito Cart</td>\n",
       "      <td>28</td>\n",
       "    </tr>\n",
       "  </tbody>\n",
       "</table>\n",
       "</div>"
      ],
      "text/plain": [
       "       City Price  Rating                      Restaurant Name  Reviews\n",
       "0  Brooklyn     $     4.5                    Born & Raised NYC        6\n",
       "1  New York   NaN     4.0                             Landhaus        1\n",
       "2  Brooklyn    $$     4.0  Luke's Lobster Brooklyn Bridge Park      303\n",
       "3  Brooklyn   $$$     4.0              Sugarcane Raw Bar Grill      508\n",
       "4  Brooklyn     $     3.5         Calexico Taco / Burrito Cart       28"
      ]
     },
     "execution_count": 5,
     "metadata": {},
     "output_type": "execute_result"
    }
   ],
   "source": [
    "#Creating a DataFrame to save the Rating,Reviews , Price etc for 5000 restaurants per City\n",
    "restaurants_df = pd.DataFrame(data)\n",
    "restaurants_df.head()"
   ]
  },
  {
   "cell_type": "code",
   "execution_count": 6,
   "metadata": {},
   "outputs": [
    {
     "data": {
      "text/html": [
       "<div>\n",
       "<style scoped>\n",
       "    .dataframe tbody tr th:only-of-type {\n",
       "        vertical-align: middle;\n",
       "    }\n",
       "\n",
       "    .dataframe tbody tr th {\n",
       "        vertical-align: top;\n",
       "    }\n",
       "\n",
       "    .dataframe thead th {\n",
       "        text-align: right;\n",
       "    }\n",
       "</style>\n",
       "<table border=\"1\" class=\"dataframe\">\n",
       "  <thead>\n",
       "    <tr style=\"text-align: right;\">\n",
       "      <th></th>\n",
       "      <th>City</th>\n",
       "      <th>Price</th>\n",
       "      <th>Rating</th>\n",
       "      <th>Restaurant Name</th>\n",
       "      <th>Reviews</th>\n",
       "    </tr>\n",
       "  </thead>\n",
       "  <tbody>\n",
       "    <tr>\n",
       "      <th>0</th>\n",
       "      <td>Brooklyn</td>\n",
       "      <td>$</td>\n",
       "      <td>4.5</td>\n",
       "      <td>Born &amp; Raised NYC</td>\n",
       "      <td>6</td>\n",
       "    </tr>\n",
       "    <tr>\n",
       "      <th>2</th>\n",
       "      <td>Brooklyn</td>\n",
       "      <td>$$</td>\n",
       "      <td>4.0</td>\n",
       "      <td>Luke's Lobster Brooklyn Bridge Park</td>\n",
       "      <td>303</td>\n",
       "    </tr>\n",
       "    <tr>\n",
       "      <th>3</th>\n",
       "      <td>Brooklyn</td>\n",
       "      <td>$$$</td>\n",
       "      <td>4.0</td>\n",
       "      <td>Sugarcane Raw Bar Grill</td>\n",
       "      <td>508</td>\n",
       "    </tr>\n",
       "    <tr>\n",
       "      <th>4</th>\n",
       "      <td>Brooklyn</td>\n",
       "      <td>$</td>\n",
       "      <td>3.5</td>\n",
       "      <td>Calexico Taco / Burrito Cart</td>\n",
       "      <td>28</td>\n",
       "    </tr>\n",
       "    <tr>\n",
       "      <th>5</th>\n",
       "      <td>Brooklyn</td>\n",
       "      <td>$$</td>\n",
       "      <td>3.0</td>\n",
       "      <td>Ignazio's</td>\n",
       "      <td>498</td>\n",
       "    </tr>\n",
       "  </tbody>\n",
       "</table>\n",
       "</div>"
      ],
      "text/plain": [
       "       City Price  Rating                      Restaurant Name  Reviews\n",
       "0  Brooklyn     $     4.5                    Born & Raised NYC        6\n",
       "2  Brooklyn    $$     4.0  Luke's Lobster Brooklyn Bridge Park      303\n",
       "3  Brooklyn   $$$     4.0              Sugarcane Raw Bar Grill      508\n",
       "4  Brooklyn     $     3.5         Calexico Taco / Burrito Cart       28\n",
       "5  Brooklyn    $$     3.0                            Ignazio's      498"
      ]
     },
     "execution_count": 6,
     "metadata": {},
     "output_type": "execute_result"
    }
   ],
   "source": [
    "#Dropping Nan values\n",
    "restaurants_df.dropna(axis='index',how='any',inplace=True)\n",
    "restaurants_df.reset_index(drop=True)\n",
    "restaurants_df.head()"
   ]
  },
  {
   "cell_type": "code",
   "execution_count": 7,
   "metadata": {},
   "outputs": [
    {
     "data": {
      "text/plain": [
       "4.0    1246\n",
       "3.5     797\n",
       "4.5     519\n",
       "3.0     320\n",
       "2.5     184\n",
       "2.0      99\n",
       "5.0      60\n",
       "1.5      37\n",
       "1.0      14\n",
       "Name: Rating, dtype: int64"
      ]
     },
     "execution_count": 7,
     "metadata": {},
     "output_type": "execute_result"
    }
   ],
   "source": [
    "restaurants_df['Rating'].value_counts()"
   ]
  },
  {
   "cell_type": "code",
   "execution_count": 8,
   "metadata": {},
   "outputs": [],
   "source": [
    "newyork_df = restaurants_df[restaurants_df['City']=='New York']\n",
    "chicago_df = restaurants_df[restaurants_df['City']=='Chicago']\n",
    "houston_df = restaurants_df[restaurants_df['City']=='Houston']\n",
    "sanfran_df = restaurants_df[restaurants_df['City']=='San Francisco']"
   ]
  }
 ],
 "metadata": {
  "kernelspec": {
   "display_name": "Python 3",
   "language": "python",
   "name": "python3"
  },
  "language_info": {
   "codemirror_mode": {
    "name": "ipython",
    "version": 3
   },
   "file_extension": ".py",
   "mimetype": "text/x-python",
   "name": "python",
   "nbconvert_exporter": "python",
   "pygments_lexer": "ipython3",
   "version": "3.7.3"
  }
 },
 "nbformat": 4,
 "nbformat_minor": 2
}
