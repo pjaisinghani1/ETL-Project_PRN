{
 "cells": [
  {
   "cell_type": "markdown",
   "metadata": {},
   "source": [
    "# ETL Project - Yelp API and NYC Health Inspection Grades"
   ]
  },
  {
   "cell_type": "code",
   "execution_count": 121,
   "metadata": {},
   "outputs": [],
   "source": [
    "# Dependencies\n",
    "import pandas as pd\n",
    "from sqlalchemy import create_engine\n",
    "from flask import Flask, jsonify\n",
    "import json\n",
    "import requests\n",
    "import os\n",
    "import csv\n",
    "import numpy as np\n",
    "import matplotlib.pyplot as plt\n",
    "from pprint import pprint\n",
    "\n"
   ]
  },
  {
   "cell_type": "markdown",
   "metadata": {
    "slideshow": {
     "slide_type": "-"
    }
   },
   "source": [
    "### Store NYC Health Inspection CSV into DataFrame"
   ]
  },
  {
   "cell_type": "code",
   "execution_count": 122,
   "metadata": {},
   "outputs": [
    {
     "data": {
      "text/html": [
       "<div>\n",
       "<style scoped>\n",
       "    .dataframe tbody tr th:only-of-type {\n",
       "        vertical-align: middle;\n",
       "    }\n",
       "\n",
       "    .dataframe tbody tr th {\n",
       "        vertical-align: top;\n",
       "    }\n",
       "\n",
       "    .dataframe thead th {\n",
       "        text-align: right;\n",
       "    }\n",
       "</style>\n",
       "<table border=\"1\" class=\"dataframe\">\n",
       "  <thead>\n",
       "    <tr style=\"text-align: right;\">\n",
       "      <th></th>\n",
       "      <th>CAMIS</th>\n",
       "      <th>DBA</th>\n",
       "      <th>BORO</th>\n",
       "      <th>BUILDING</th>\n",
       "      <th>STREET</th>\n",
       "      <th>ZIPCODE</th>\n",
       "      <th>PHONE</th>\n",
       "      <th>CUISINE DESCRIPTION</th>\n",
       "      <th>INSPECTION DATE</th>\n",
       "      <th>ACTION</th>\n",
       "      <th>...</th>\n",
       "      <th>RECORD DATE</th>\n",
       "      <th>INSPECTION TYPE</th>\n",
       "      <th>Latitude</th>\n",
       "      <th>Longitude</th>\n",
       "      <th>Community Board</th>\n",
       "      <th>Council District</th>\n",
       "      <th>Census Tract</th>\n",
       "      <th>BIN</th>\n",
       "      <th>BBL</th>\n",
       "      <th>NTA</th>\n",
       "    </tr>\n",
       "  </thead>\n",
       "  <tbody>\n",
       "    <tr>\n",
       "      <th>0</th>\n",
       "      <td>50059672</td>\n",
       "      <td>GOOD FRIENDS 1</td>\n",
       "      <td>Brooklyn</td>\n",
       "      <td>1376</td>\n",
       "      <td>NOSTRAND AVE</td>\n",
       "      <td>11226.0</td>\n",
       "      <td>7182872345</td>\n",
       "      <td>Chinese</td>\n",
       "      <td>09/06/2018</td>\n",
       "      <td>Establishment Closed by DOHMH.  Violations wer...</td>\n",
       "      <td>...</td>\n",
       "      <td>10/11/2019</td>\n",
       "      <td>Cycle Inspection / Initial Inspection</td>\n",
       "      <td>40.653158</td>\n",
       "      <td>-73.949837</td>\n",
       "      <td>317.0</td>\n",
       "      <td>40.0</td>\n",
       "      <td>82000.0</td>\n",
       "      <td>3116688.0</td>\n",
       "      <td>3.050850e+09</td>\n",
       "      <td>BK60</td>\n",
       "    </tr>\n",
       "    <tr>\n",
       "      <th>1</th>\n",
       "      <td>50034192</td>\n",
       "      <td>K'OOK</td>\n",
       "      <td>Manhattan</td>\n",
       "      <td>324</td>\n",
       "      <td>E 6TH ST</td>\n",
       "      <td>10003.0</td>\n",
       "      <td>2122540300</td>\n",
       "      <td>Korean</td>\n",
       "      <td>08/14/2017</td>\n",
       "      <td>Violations were cited in the following area(s).</td>\n",
       "      <td>...</td>\n",
       "      <td>10/11/2019</td>\n",
       "      <td>Cycle Inspection / Initial Inspection</td>\n",
       "      <td>40.727066</td>\n",
       "      <td>-73.987780</td>\n",
       "      <td>103.0</td>\n",
       "      <td>2.0</td>\n",
       "      <td>3800.0</td>\n",
       "      <td>1006234.0</td>\n",
       "      <td>1.004470e+09</td>\n",
       "      <td>MN22</td>\n",
       "    </tr>\n",
       "    <tr>\n",
       "      <th>2</th>\n",
       "      <td>50033885</td>\n",
       "      <td>A&amp;H DELI</td>\n",
       "      <td>Manhattan</td>\n",
       "      <td>431</td>\n",
       "      <td>7TH AVE</td>\n",
       "      <td>10001.0</td>\n",
       "      <td>2125636200</td>\n",
       "      <td>American</td>\n",
       "      <td>06/06/2016</td>\n",
       "      <td>Violations were cited in the following area(s).</td>\n",
       "      <td>...</td>\n",
       "      <td>10/11/2019</td>\n",
       "      <td>Cycle Inspection / Re-inspection</td>\n",
       "      <td>40.750710</td>\n",
       "      <td>-73.990811</td>\n",
       "      <td>105.0</td>\n",
       "      <td>3.0</td>\n",
       "      <td>10100.0</td>\n",
       "      <td>1015218.0</td>\n",
       "      <td>1.008090e+09</td>\n",
       "      <td>MN17</td>\n",
       "    </tr>\n",
       "    <tr>\n",
       "      <th>3</th>\n",
       "      <td>41519373</td>\n",
       "      <td>BUNGALO</td>\n",
       "      <td>Queens</td>\n",
       "      <td>3203</td>\n",
       "      <td>BROADWAY</td>\n",
       "      <td>11106.0</td>\n",
       "      <td>7182047010</td>\n",
       "      <td>Armenian</td>\n",
       "      <td>01/21/2017</td>\n",
       "      <td>No violations were recorded at the time of thi...</td>\n",
       "      <td>...</td>\n",
       "      <td>10/11/2019</td>\n",
       "      <td>Inter-Agency Task Force / Initial Inspection</td>\n",
       "      <td>40.761538</td>\n",
       "      <td>-73.924450</td>\n",
       "      <td>401.0</td>\n",
       "      <td>22.0</td>\n",
       "      <td>6100.0</td>\n",
       "      <td>4008406.0</td>\n",
       "      <td>4.006140e+09</td>\n",
       "      <td>QN70</td>\n",
       "    </tr>\n",
       "    <tr>\n",
       "      <th>4</th>\n",
       "      <td>50016112</td>\n",
       "      <td>ANTOJITOS ECUATORIANOS</td>\n",
       "      <td>Brooklyn</td>\n",
       "      <td>3398</td>\n",
       "      <td>FULTON ST</td>\n",
       "      <td>11208.0</td>\n",
       "      <td>7182770970</td>\n",
       "      <td>Latin (Cuban, Dominican, Puerto Rican, South &amp;...</td>\n",
       "      <td>07/11/2018</td>\n",
       "      <td>Violations were cited in the following area(s).</td>\n",
       "      <td>...</td>\n",
       "      <td>10/11/2019</td>\n",
       "      <td>Cycle Inspection / Re-inspection</td>\n",
       "      <td>40.684208</td>\n",
       "      <td>-73.870173</td>\n",
       "      <td>305.0</td>\n",
       "      <td>37.0</td>\n",
       "      <td>118400.0</td>\n",
       "      <td>3092908.0</td>\n",
       "      <td>3.041490e+09</td>\n",
       "      <td>BK83</td>\n",
       "    </tr>\n",
       "  </tbody>\n",
       "</table>\n",
       "<p>5 rows × 26 columns</p>\n",
       "</div>"
      ],
      "text/plain": [
       "      CAMIS                     DBA       BORO BUILDING        STREET  \\\n",
       "0  50059672          GOOD FRIENDS 1   Brooklyn     1376  NOSTRAND AVE   \n",
       "1  50034192                   K'OOK  Manhattan      324      E 6TH ST   \n",
       "2  50033885                A&H DELI  Manhattan      431       7TH AVE   \n",
       "3  41519373                 BUNGALO     Queens     3203      BROADWAY   \n",
       "4  50016112  ANTOJITOS ECUATORIANOS   Brooklyn     3398     FULTON ST   \n",
       "\n",
       "   ZIPCODE       PHONE                                CUISINE DESCRIPTION  \\\n",
       "0  11226.0  7182872345                                            Chinese   \n",
       "1  10003.0  2122540300                                             Korean   \n",
       "2  10001.0  2125636200                                           American   \n",
       "3  11106.0  7182047010                                           Armenian   \n",
       "4  11208.0  7182770970  Latin (Cuban, Dominican, Puerto Rican, South &...   \n",
       "\n",
       "  INSPECTION DATE                                             ACTION  ...  \\\n",
       "0      09/06/2018  Establishment Closed by DOHMH.  Violations wer...  ...   \n",
       "1      08/14/2017    Violations were cited in the following area(s).  ...   \n",
       "2      06/06/2016    Violations were cited in the following area(s).  ...   \n",
       "3      01/21/2017  No violations were recorded at the time of thi...  ...   \n",
       "4      07/11/2018    Violations were cited in the following area(s).  ...   \n",
       "\n",
       "  RECORD DATE                               INSPECTION TYPE   Latitude  \\\n",
       "0  10/11/2019         Cycle Inspection / Initial Inspection  40.653158   \n",
       "1  10/11/2019         Cycle Inspection / Initial Inspection  40.727066   \n",
       "2  10/11/2019              Cycle Inspection / Re-inspection  40.750710   \n",
       "3  10/11/2019  Inter-Agency Task Force / Initial Inspection  40.761538   \n",
       "4  10/11/2019              Cycle Inspection / Re-inspection  40.684208   \n",
       "\n",
       "   Longitude Community Board Council District Census Tract        BIN  \\\n",
       "0 -73.949837           317.0             40.0      82000.0  3116688.0   \n",
       "1 -73.987780           103.0              2.0       3800.0  1006234.0   \n",
       "2 -73.990811           105.0              3.0      10100.0  1015218.0   \n",
       "3 -73.924450           401.0             22.0       6100.0  4008406.0   \n",
       "4 -73.870173           305.0             37.0     118400.0  3092908.0   \n",
       "\n",
       "            BBL   NTA  \n",
       "0  3.050850e+09  BK60  \n",
       "1  1.004470e+09  MN22  \n",
       "2  1.008090e+09  MN17  \n",
       "3  4.006140e+09  QN70  \n",
       "4  3.041490e+09  BK83  \n",
       "\n",
       "[5 rows x 26 columns]"
      ]
     },
     "execution_count": 122,
     "metadata": {},
     "output_type": "execute_result"
    }
   ],
   "source": [
    "csv_file = \"../Resources/DOHMH_New_York_City_Restaurant_Inspection_Results.csv\"\n",
    "inspection_data_df = pd.read_csv(csv_file)\n",
    "inspection_data_df.head()"
   ]
  },
  {
   "cell_type": "markdown",
   "metadata": {},
   "source": [
    "### Create new NYC Health Inspection DataFrame with select columns"
   ]
  },
  {
   "cell_type": "code",
   "execution_count": 123,
   "metadata": {},
   "outputs": [
    {
     "data": {
      "text/plain": [
       "DBA         20157\n",
       "BUILDING    20157\n",
       "STREET      20157\n",
       "ZIPCODE     20157\n",
       "BORO        20157\n",
       "GRADE       20157\n",
       "dtype: int64"
      ]
     },
     "execution_count": 123,
     "metadata": {},
     "output_type": "execute_result"
    }
   ],
   "source": [
    "# Select relevant columns: DBA (name), Building, Street, Zipcode, Boro, Grade\n",
    "ny_inspect_df = inspection_data_df[['DBA', 'BUILDING', 'STREET', 'ZIPCODE', 'BORO', 'GRADE']].copy()\n",
    "ny_inspect_df = ny_inspect_df.dropna()\n",
    "ny_inspect_final = ny_inspect_df.drop_duplicates(subset='DBA', keep='first', inplace=False)\n",
    "ny_inspect_final.count()"
   ]
  },
  {
   "cell_type": "markdown",
   "metadata": {},
   "source": [
    "### Yelp API Response"
   ]
  },
  {
   "cell_type": "code",
   "execution_count": 124,
   "metadata": {},
   "outputs": [],
   "source": [
    "# Set up parameters for the API Key\n",
    "api_key='KMXu7o4jj9H_5fBmmoxcQUXUcjaIiDMpnabg34SZhyJUQPt-H6y8sfBIq8jI65xOovUH7cKhDpTUnvK2UIFOf1r5864boyx0PCcIwR4QQ1OeR8IWr5RO7UxW3HJoXXYx'\n",
    "headers = {'Authorization': 'Bearer %s' % api_key}\n",
    "\n",
    "# Define the Business Search end point url\n",
    "url='https://api.yelp.com/v3/businesses/search'"
   ]
  },
  {
   "cell_type": "code",
   "execution_count": 125,
   "metadata": {},
   "outputs": [],
   "source": [
    "# Pulling data for 5,000 restaurants in NYC\n",
    "categories = ['Italian', 'American', 'Mexican', 'Chinese', 'Cuban']\n",
    "restaurants = []\n",
    "\n",
    "for category in categories:\n",
    "    for offset in range(0,1000,50):\n",
    "        params = {'term':'restaurants','categories': category,'location':'New York','limit':50, 'offset':offset}\n",
    "        response = requests.get(url, params=params, headers=headers).json()\n",
    "        restaurants.append(dict(response))"
   ]
  },
  {
   "cell_type": "code",
   "execution_count": 140,
   "metadata": {},
   "outputs": [],
   "source": [
    "# pprint(restaurants[1])"
   ]
  },
  {
   "cell_type": "code",
   "execution_count": 127,
   "metadata": {},
   "outputs": [],
   "source": [
    "# Define empty dictionary to save only required elements\n",
    "final = {}\n",
    "\n",
    "# Define Empty list to append all the data \n",
    "data = []\n",
    "\n",
    "for restaurant in restaurants:\n",
    "    try:\n",
    "        for item in restaurant['businesses']:\n",
    "            final['Restaurant Name'] = item['name']\n",
    "            final['City'] = item['location']['city']\n",
    "            final['Rating'] = item['rating']\n",
    "            data.append(dict(final))\n",
    "    except:   \n",
    "        restaurant['businesses'] = float('nan')\n",
    "        \n",
    "        # Send api data to json file\n",
    "        # data.to_json(\"../Resources/YelpData.json\")"
   ]
  },
  {
   "cell_type": "code",
   "execution_count": 128,
   "metadata": {
    "scrolled": true
   },
   "outputs": [
    {
     "data": {
      "text/html": [
       "<div>\n",
       "<style scoped>\n",
       "    .dataframe tbody tr th:only-of-type {\n",
       "        vertical-align: middle;\n",
       "    }\n",
       "\n",
       "    .dataframe tbody tr th {\n",
       "        vertical-align: top;\n",
       "    }\n",
       "\n",
       "    .dataframe thead th {\n",
       "        text-align: right;\n",
       "    }\n",
       "</style>\n",
       "<table border=\"1\" class=\"dataframe\">\n",
       "  <thead>\n",
       "    <tr style=\"text-align: right;\">\n",
       "      <th></th>\n",
       "      <th>City</th>\n",
       "      <th>Rating</th>\n",
       "      <th>Restaurant Name</th>\n",
       "    </tr>\n",
       "  </thead>\n",
       "  <tbody>\n",
       "    <tr>\n",
       "      <th>0</th>\n",
       "      <td>New York</td>\n",
       "      <td>4.5</td>\n",
       "      <td>Upstate</td>\n",
       "    </tr>\n",
       "    <tr>\n",
       "      <th>1</th>\n",
       "      <td>New York</td>\n",
       "      <td>4.5</td>\n",
       "      <td>Amélie</td>\n",
       "    </tr>\n",
       "    <tr>\n",
       "      <th>2</th>\n",
       "      <td>New York</td>\n",
       "      <td>4.0</td>\n",
       "      <td>Trattoria Trecolori</td>\n",
       "    </tr>\n",
       "    <tr>\n",
       "      <th>3</th>\n",
       "      <td>New York</td>\n",
       "      <td>4.5</td>\n",
       "      <td>Thai Villa</td>\n",
       "    </tr>\n",
       "    <tr>\n",
       "      <th>4</th>\n",
       "      <td>New York</td>\n",
       "      <td>4.5</td>\n",
       "      <td>nonono</td>\n",
       "    </tr>\n",
       "  </tbody>\n",
       "</table>\n",
       "</div>"
      ],
      "text/plain": [
       "       City  Rating      Restaurant Name\n",
       "0  New York     4.5              Upstate\n",
       "1  New York     4.5               Amélie\n",
       "2  New York     4.0  Trattoria Trecolori\n",
       "3  New York     4.5           Thai Villa\n",
       "4  New York     4.5               nonono"
      ]
     },
     "execution_count": 128,
     "metadata": {},
     "output_type": "execute_result"
    }
   ],
   "source": [
    "# Create DataFrame to save restaurant name, neighborhood, rating\n",
    "restaurants_df = pd.DataFrame(data)\n",
    "restaurants_df.head()\n",
    "\n",
    "#json_file = \"../Resources/YelpData.json\"\n",
    "#restaurants_df = pd.read_json(json_file)\n",
    "#restaurants_df.head()"
   ]
  },
  {
   "cell_type": "code",
   "execution_count": 129,
   "metadata": {},
   "outputs": [
    {
     "data": {
      "text/plain": [
       "City               968\n",
       "Rating             968\n",
       "Restaurant Name    968\n",
       "dtype: int64"
      ]
     },
     "execution_count": 129,
     "metadata": {},
     "output_type": "execute_result"
    }
   ],
   "source": [
    "# Drop nan values and duplicates\n",
    "restaurants_df.dropna(axis='index',how='all',inplace=True)\n",
    "restaurants_df.reset_index(drop=True)\n",
    "\n",
    "restaurants_final = restaurants_df.drop_duplicates(subset='Restaurant Name', keep='first', inplace=False)\n",
    "restaurants_final.count()"
   ]
  },
  {
   "cell_type": "code",
   "execution_count": 130,
   "metadata": {
    "scrolled": false
   },
   "outputs": [
    {
     "name": "stderr",
     "output_type": "stream",
     "text": [
      "/Users/nickbredahl/anaconda3/lib/python3.7/site-packages/ipykernel_launcher.py:2: SettingWithCopyWarning: \n",
      "A value is trying to be set on a copy of a slice from a DataFrame.\n",
      "Try using .loc[row_indexer,col_indexer] = value instead\n",
      "\n",
      "See the caveats in the documentation: http://pandas.pydata.org/pandas-docs/stable/indexing.html#indexing-view-versus-copy\n",
      "  \n"
     ]
    },
    {
     "data": {
      "text/html": [
       "<div>\n",
       "<style scoped>\n",
       "    .dataframe tbody tr th:only-of-type {\n",
       "        vertical-align: middle;\n",
       "    }\n",
       "\n",
       "    .dataframe tbody tr th {\n",
       "        vertical-align: top;\n",
       "    }\n",
       "\n",
       "    .dataframe thead th {\n",
       "        text-align: right;\n",
       "    }\n",
       "</style>\n",
       "<table border=\"1\" class=\"dataframe\">\n",
       "  <thead>\n",
       "    <tr style=\"text-align: right;\">\n",
       "      <th></th>\n",
       "      <th>City</th>\n",
       "      <th>Rating</th>\n",
       "      <th>Restaurant Name</th>\n",
       "    </tr>\n",
       "  </thead>\n",
       "  <tbody>\n",
       "    <tr>\n",
       "      <th>0</th>\n",
       "      <td>New York</td>\n",
       "      <td>4.5</td>\n",
       "      <td>UPSTATE</td>\n",
       "    </tr>\n",
       "    <tr>\n",
       "      <th>1</th>\n",
       "      <td>New York</td>\n",
       "      <td>4.5</td>\n",
       "      <td>AMÉLIE</td>\n",
       "    </tr>\n",
       "    <tr>\n",
       "      <th>2</th>\n",
       "      <td>New York</td>\n",
       "      <td>4.0</td>\n",
       "      <td>TRATTORIA TRECOLORI</td>\n",
       "    </tr>\n",
       "    <tr>\n",
       "      <th>3</th>\n",
       "      <td>New York</td>\n",
       "      <td>4.5</td>\n",
       "      <td>THAI VILLA</td>\n",
       "    </tr>\n",
       "    <tr>\n",
       "      <th>4</th>\n",
       "      <td>New York</td>\n",
       "      <td>4.5</td>\n",
       "      <td>NONONO</td>\n",
       "    </tr>\n",
       "  </tbody>\n",
       "</table>\n",
       "</div>"
      ],
      "text/plain": [
       "       City  Rating      Restaurant Name\n",
       "0  New York     4.5              UPSTATE\n",
       "1  New York     4.5               AMÉLIE\n",
       "2  New York     4.0  TRATTORIA TRECOLORI\n",
       "3  New York     4.5           THAI VILLA\n",
       "4  New York     4.5               NONONO"
      ]
     },
     "execution_count": 130,
     "metadata": {},
     "output_type": "execute_result"
    }
   ],
   "source": [
    "# Convert restaurant names to uppercase to match DBA column in NYC Health Inspection DataFrame\n",
    "restaurants_final['Restaurant Name'] = restaurants_final['Restaurant Name'].str.upper() \n",
    "restaurants_final.head()"
   ]
  },
  {
   "cell_type": "markdown",
   "metadata": {},
   "source": [
    "### Transform Yelp_Data DataFrame"
   ]
  },
  {
   "cell_type": "code",
   "execution_count": 131,
   "metadata": {},
   "outputs": [
    {
     "data": {
      "text/html": [
       "<div>\n",
       "<style scoped>\n",
       "    .dataframe tbody tr th:only-of-type {\n",
       "        vertical-align: middle;\n",
       "    }\n",
       "\n",
       "    .dataframe tbody tr th {\n",
       "        vertical-align: top;\n",
       "    }\n",
       "\n",
       "    .dataframe thead th {\n",
       "        text-align: right;\n",
       "    }\n",
       "</style>\n",
       "<table border=\"1\" class=\"dataframe\">\n",
       "  <thead>\n",
       "    <tr style=\"text-align: right;\">\n",
       "      <th></th>\n",
       "      <th>Restaurant_Name</th>\n",
       "      <th>City</th>\n",
       "      <th>Rating</th>\n",
       "    </tr>\n",
       "  </thead>\n",
       "  <tbody>\n",
       "    <tr>\n",
       "      <th>0</th>\n",
       "      <td>UPSTATE</td>\n",
       "      <td>New York</td>\n",
       "      <td>4.5</td>\n",
       "    </tr>\n",
       "    <tr>\n",
       "      <th>1</th>\n",
       "      <td>AMÉLIE</td>\n",
       "      <td>New York</td>\n",
       "      <td>4.5</td>\n",
       "    </tr>\n",
       "    <tr>\n",
       "      <th>2</th>\n",
       "      <td>TRATTORIA TRECOLORI</td>\n",
       "      <td>New York</td>\n",
       "      <td>4.0</td>\n",
       "    </tr>\n",
       "    <tr>\n",
       "      <th>3</th>\n",
       "      <td>THAI VILLA</td>\n",
       "      <td>New York</td>\n",
       "      <td>4.5</td>\n",
       "    </tr>\n",
       "    <tr>\n",
       "      <th>4</th>\n",
       "      <td>NONONO</td>\n",
       "      <td>New York</td>\n",
       "      <td>4.5</td>\n",
       "    </tr>\n",
       "  </tbody>\n",
       "</table>\n",
       "</div>"
      ],
      "text/plain": [
       "       Restaurant_Name      City  Rating\n",
       "0              UPSTATE  New York     4.5\n",
       "1               AMÉLIE  New York     4.5\n",
       "2  TRATTORIA TRECOLORI  New York     4.0\n",
       "3           THAI VILLA  New York     4.5\n",
       "4               NONONO  New York     4.5"
      ]
     },
     "execution_count": 131,
     "metadata": {},
     "output_type": "execute_result"
    }
   ],
   "source": [
    "# Create filtered DataFrame from specific columns\n",
    "restaurants_df_cols = [\"Restaurant Name\", \"City\", \"Rating\"]\n",
    "restaurant_transformed= restaurants_final[restaurants_df_cols].copy()\n",
    "\n",
    "# Rename the column headers\n",
    "restaurant_transformed = restaurant_transformed.rename(columns={\"Restaurant Name\": \"Restaurant_Name\",\n",
    "                                                          \"City\": \"City\",\n",
    "                                                          \"Rating\": \"Rating\"})\n",
    "\n",
    "# Clean the data by dropping duplicates and setting index\n",
    "restaurant_transformed.dropna(subset=['Restaurant_Name'],inplace=False)\n",
    "restaurant_transformed.set_index(\"Restaurant_Name\", inplace=False)\n",
    "\n",
    "restaurant_transformed.head()"
   ]
  },
  {
   "cell_type": "markdown",
   "metadata": {},
   "source": [
    "### Transform Ny_inspection Dataframe"
   ]
  },
  {
   "cell_type": "code",
   "execution_count": 132,
   "metadata": {},
   "outputs": [
    {
     "data": {
      "text/html": [
       "<div>\n",
       "<style scoped>\n",
       "    .dataframe tbody tr th:only-of-type {\n",
       "        vertical-align: middle;\n",
       "    }\n",
       "\n",
       "    .dataframe tbody tr th {\n",
       "        vertical-align: top;\n",
       "    }\n",
       "\n",
       "    .dataframe thead th {\n",
       "        text-align: right;\n",
       "    }\n",
       "</style>\n",
       "<table border=\"1\" class=\"dataframe\">\n",
       "  <thead>\n",
       "    <tr style=\"text-align: right;\">\n",
       "      <th></th>\n",
       "      <th>Restaurant_Name</th>\n",
       "      <th>Building</th>\n",
       "      <th>Street</th>\n",
       "      <th>Zip_Code</th>\n",
       "      <th>Boro</th>\n",
       "      <th>Grade</th>\n",
       "    </tr>\n",
       "  </thead>\n",
       "  <tbody>\n",
       "    <tr>\n",
       "      <th>0</th>\n",
       "      <td>A&amp;H DELI</td>\n",
       "      <td>431</td>\n",
       "      <td>7TH AVE</td>\n",
       "      <td>10001.0</td>\n",
       "      <td>Manhattan</td>\n",
       "      <td>A</td>\n",
       "    </tr>\n",
       "    <tr>\n",
       "      <th>1</th>\n",
       "      <td>ANTOJITOS ECUATORIANOS</td>\n",
       "      <td>3398</td>\n",
       "      <td>FULTON ST</td>\n",
       "      <td>11208.0</td>\n",
       "      <td>Brooklyn</td>\n",
       "      <td>A</td>\n",
       "    </tr>\n",
       "    <tr>\n",
       "      <th>2</th>\n",
       "      <td>I LAND FISH &amp; GRILL</td>\n",
       "      <td>7911</td>\n",
       "      <td>FLATLANDS AVE</td>\n",
       "      <td>11236.0</td>\n",
       "      <td>Brooklyn</td>\n",
       "      <td>B</td>\n",
       "    </tr>\n",
       "    <tr>\n",
       "      <th>3</th>\n",
       "      <td>CAFE LAFAYETTE</td>\n",
       "      <td>80</td>\n",
       "      <td>LAFAYETTE STREET</td>\n",
       "      <td>10013.0</td>\n",
       "      <td>Manhattan</td>\n",
       "      <td>A</td>\n",
       "    </tr>\n",
       "    <tr>\n",
       "      <th>4</th>\n",
       "      <td>FLY BAR</td>\n",
       "      <td>4224</td>\n",
       "      <td>COLLEGE POINT BLVD</td>\n",
       "      <td>11355.0</td>\n",
       "      <td>Queens</td>\n",
       "      <td>A</td>\n",
       "    </tr>\n",
       "  </tbody>\n",
       "</table>\n",
       "</div>"
      ],
      "text/plain": [
       "          Restaurant_Name Building              Street  Zip_Code       Boro  \\\n",
       "0                A&H DELI      431             7TH AVE   10001.0  Manhattan   \n",
       "1  ANTOJITOS ECUATORIANOS     3398           FULTON ST   11208.0   Brooklyn   \n",
       "2     I LAND FISH & GRILL     7911       FLATLANDS AVE   11236.0   Brooklyn   \n",
       "3          CAFE LAFAYETTE       80    LAFAYETTE STREET   10013.0  Manhattan   \n",
       "4                 FLY BAR     4224  COLLEGE POINT BLVD   11355.0     Queens   \n",
       "\n",
       "  Grade  \n",
       "0     A  \n",
       "1     A  \n",
       "2     B  \n",
       "3     A  \n",
       "4     A  "
      ]
     },
     "execution_count": 132,
     "metadata": {},
     "output_type": "execute_result"
    }
   ],
   "source": [
    "# Create  filtered dataframe from specific columns\n",
    "ny_inspect_cols = [\"DBA\", \"BUILDING\", \"STREET\", \"ZIPCODE\", \"BORO\", \"GRADE\"]\n",
    "inspect_transformed= ny_inspect_final[ny_inspect_cols].copy()\n",
    "\n",
    "# Rename the column headers\n",
    "inspect_transformed = inspect_transformed.rename(columns={\"DBA\": \"Restaurant_Name\",\n",
    "                                                          \"BUILDING\": \"Building\",\n",
    "                                                          \"STREET\": \"Street\",\n",
    "                                                          \"ZIPCODE\": \"Zip_Code\",\n",
    "                                                          \"BORO\": \"Boro\",\n",
    "                                                          \"GRADE\": \"Grade\"})\n",
    "\n",
    "# Clean the data by dropping duplicates and setting the index\n",
    "inspect_transformed.dropna(subset=['Restaurant_Name'], inplace=False)\n",
    "inspect_transformed.set_index(\"Restaurant_Name\", inplace=False)\n",
    "inspect_transformed = inspect_transformed.reset_index(drop=True)\n",
    "\n",
    "inspect_transformed.head()"
   ]
  },
  {
   "cell_type": "markdown",
   "metadata": {},
   "source": [
    "### Connect to local database"
   ]
  },
  {
   "cell_type": "code",
   "execution_count": 133,
   "metadata": {},
   "outputs": [],
   "source": [
    "rds_connection_string = \"postgres:rutgers@localhost:5432/yelpvsnyc\"\n",
    "engine = create_engine(f'postgresql://{rds_connection_string}')"
   ]
  },
  {
   "cell_type": "markdown",
   "metadata": {},
   "source": [
    "### Check for tables"
   ]
  },
  {
   "cell_type": "code",
   "execution_count": 134,
   "metadata": {},
   "outputs": [
    {
     "data": {
      "text/plain": [
       "['Ny_Inspection', 'Yelp_Data']"
      ]
     },
     "execution_count": 134,
     "metadata": {},
     "output_type": "execute_result"
    }
   ],
   "source": [
    "engine.table_names()"
   ]
  },
  {
   "cell_type": "markdown",
   "metadata": {},
   "source": [
    "### Load CSV converted DataFrame into database"
   ]
  },
  {
   "cell_type": "code",
   "execution_count": 135,
   "metadata": {},
   "outputs": [],
   "source": [
    "inspect_transformed.to_sql(name='Ny_Inspection', con=engine, if_exists='append', index=False)"
   ]
  },
  {
   "cell_type": "markdown",
   "metadata": {},
   "source": [
    "### Load JSON converted DataFrame into database"
   ]
  },
  {
   "cell_type": "code",
   "execution_count": 136,
   "metadata": {},
   "outputs": [],
   "source": [
    "restaurant_transformed.to_sql(name='Yelp_Data', con=engine, if_exists='append', index=False)"
   ]
  },
  {
   "cell_type": "markdown",
   "metadata": {},
   "source": [
    "### Confirm data has been added"
   ]
  },
  {
   "cell_type": "code",
   "execution_count": 137,
   "metadata": {},
   "outputs": [
    {
     "data": {
      "text/html": [
       "<div>\n",
       "<style scoped>\n",
       "    .dataframe tbody tr th:only-of-type {\n",
       "        vertical-align: middle;\n",
       "    }\n",
       "\n",
       "    .dataframe tbody tr th {\n",
       "        vertical-align: top;\n",
       "    }\n",
       "\n",
       "    .dataframe thead th {\n",
       "        text-align: right;\n",
       "    }\n",
       "</style>\n",
       "<table border=\"1\" class=\"dataframe\">\n",
       "  <thead>\n",
       "    <tr style=\"text-align: right;\">\n",
       "      <th></th>\n",
       "      <th>Restaurant_Name</th>\n",
       "      <th>Building</th>\n",
       "      <th>Street</th>\n",
       "      <th>Zip_Code</th>\n",
       "      <th>Boro</th>\n",
       "      <th>Grade</th>\n",
       "    </tr>\n",
       "  </thead>\n",
       "  <tbody>\n",
       "    <tr>\n",
       "      <th>0</th>\n",
       "      <td>A&amp;H DELI</td>\n",
       "      <td>431</td>\n",
       "      <td>7TH AVE</td>\n",
       "      <td>10001</td>\n",
       "      <td>Manhattan</td>\n",
       "      <td>A</td>\n",
       "    </tr>\n",
       "    <tr>\n",
       "      <th>1</th>\n",
       "      <td>ANTOJITOS ECUATORIANOS</td>\n",
       "      <td>3398</td>\n",
       "      <td>FULTON ST</td>\n",
       "      <td>11208</td>\n",
       "      <td>Brooklyn</td>\n",
       "      <td>A</td>\n",
       "    </tr>\n",
       "    <tr>\n",
       "      <th>2</th>\n",
       "      <td>I LAND FISH &amp; GRILL</td>\n",
       "      <td>7911</td>\n",
       "      <td>FLATLANDS AVE</td>\n",
       "      <td>11236</td>\n",
       "      <td>Brooklyn</td>\n",
       "      <td>B</td>\n",
       "    </tr>\n",
       "    <tr>\n",
       "      <th>3</th>\n",
       "      <td>CAFE LAFAYETTE</td>\n",
       "      <td>80</td>\n",
       "      <td>LAFAYETTE STREET</td>\n",
       "      <td>10013</td>\n",
       "      <td>Manhattan</td>\n",
       "      <td>A</td>\n",
       "    </tr>\n",
       "    <tr>\n",
       "      <th>4</th>\n",
       "      <td>FLY BAR</td>\n",
       "      <td>4224</td>\n",
       "      <td>COLLEGE POINT BLVD</td>\n",
       "      <td>11355</td>\n",
       "      <td>Queens</td>\n",
       "      <td>A</td>\n",
       "    </tr>\n",
       "  </tbody>\n",
       "</table>\n",
       "</div>"
      ],
      "text/plain": [
       "          Restaurant_Name Building              Street  Zip_Code       Boro  \\\n",
       "0                A&H DELI      431             7TH AVE     10001  Manhattan   \n",
       "1  ANTOJITOS ECUATORIANOS     3398           FULTON ST     11208   Brooklyn   \n",
       "2     I LAND FISH & GRILL     7911       FLATLANDS AVE     11236   Brooklyn   \n",
       "3          CAFE LAFAYETTE       80    LAFAYETTE STREET     10013  Manhattan   \n",
       "4                 FLY BAR     4224  COLLEGE POINT BLVD     11355     Queens   \n",
       "\n",
       "  Grade  \n",
       "0     A  \n",
       "1     A  \n",
       "2     B  \n",
       "3     A  \n",
       "4     A  "
      ]
     },
     "execution_count": 137,
     "metadata": {},
     "output_type": "execute_result"
    }
   ],
   "source": [
    "pd.read_sql_query('select * from \"Ny_Inspection\";', con=engine).head()"
   ]
  },
  {
   "cell_type": "code",
   "execution_count": 138,
   "metadata": {},
   "outputs": [
    {
     "data": {
      "text/html": [
       "<div>\n",
       "<style scoped>\n",
       "    .dataframe tbody tr th:only-of-type {\n",
       "        vertical-align: middle;\n",
       "    }\n",
       "\n",
       "    .dataframe tbody tr th {\n",
       "        vertical-align: top;\n",
       "    }\n",
       "\n",
       "    .dataframe thead th {\n",
       "        text-align: right;\n",
       "    }\n",
       "</style>\n",
       "<table border=\"1\" class=\"dataframe\">\n",
       "  <thead>\n",
       "    <tr style=\"text-align: right;\">\n",
       "      <th></th>\n",
       "      <th>Restaurant_Name</th>\n",
       "      <th>City</th>\n",
       "      <th>Rating</th>\n",
       "    </tr>\n",
       "  </thead>\n",
       "  <tbody>\n",
       "    <tr>\n",
       "      <th>0</th>\n",
       "      <td>UPSTATE</td>\n",
       "      <td>New York</td>\n",
       "      <td>5</td>\n",
       "    </tr>\n",
       "    <tr>\n",
       "      <th>1</th>\n",
       "      <td>AMÉLIE</td>\n",
       "      <td>New York</td>\n",
       "      <td>5</td>\n",
       "    </tr>\n",
       "    <tr>\n",
       "      <th>2</th>\n",
       "      <td>TRATTORIA TRECOLORI</td>\n",
       "      <td>New York</td>\n",
       "      <td>4</td>\n",
       "    </tr>\n",
       "    <tr>\n",
       "      <th>3</th>\n",
       "      <td>THAI VILLA</td>\n",
       "      <td>New York</td>\n",
       "      <td>5</td>\n",
       "    </tr>\n",
       "    <tr>\n",
       "      <th>4</th>\n",
       "      <td>NONONO</td>\n",
       "      <td>New York</td>\n",
       "      <td>5</td>\n",
       "    </tr>\n",
       "  </tbody>\n",
       "</table>\n",
       "</div>"
      ],
      "text/plain": [
       "       Restaurant_Name      City  Rating\n",
       "0              UPSTATE  New York       5\n",
       "1               AMÉLIE  New York       5\n",
       "2  TRATTORIA TRECOLORI  New York       4\n",
       "3           THAI VILLA  New York       5\n",
       "4               NONONO  New York       5"
      ]
     },
     "execution_count": 138,
     "metadata": {},
     "output_type": "execute_result"
    }
   ],
   "source": [
    "pd.read_sql_query('select * from \"Yelp_Data\";', con=engine).head()"
   ]
  },
  {
   "cell_type": "markdown",
   "metadata": {},
   "source": [
    "### Confirm Ny_Inspection and Yelp_Data tables have been joined"
   ]
  },
  {
   "cell_type": "code",
   "execution_count": 142,
   "metadata": {},
   "outputs": [
    {
     "data": {
      "text/html": [
       "<div>\n",
       "<style scoped>\n",
       "    .dataframe tbody tr th:only-of-type {\n",
       "        vertical-align: middle;\n",
       "    }\n",
       "\n",
       "    .dataframe tbody tr th {\n",
       "        vertical-align: top;\n",
       "    }\n",
       "\n",
       "    .dataframe thead th {\n",
       "        text-align: right;\n",
       "    }\n",
       "</style>\n",
       "<table border=\"1\" class=\"dataframe\">\n",
       "  <thead>\n",
       "    <tr style=\"text-align: right;\">\n",
       "      <th></th>\n",
       "      <th>Restaurant_Name</th>\n",
       "      <th>Grade</th>\n",
       "      <th>Boro</th>\n",
       "      <th>Rating</th>\n",
       "    </tr>\n",
       "  </thead>\n",
       "  <tbody>\n",
       "    <tr>\n",
       "      <th>0</th>\n",
       "      <td>LOCAL 92</td>\n",
       "      <td>A</td>\n",
       "      <td>Manhattan</td>\n",
       "      <td>4</td>\n",
       "    </tr>\n",
       "    <tr>\n",
       "      <th>1</th>\n",
       "      <td>VANESSA'S DUMPLING HOUSE</td>\n",
       "      <td>A</td>\n",
       "      <td>Brooklyn</td>\n",
       "      <td>4</td>\n",
       "    </tr>\n",
       "    <tr>\n",
       "      <th>2</th>\n",
       "      <td>BENITO ONE</td>\n",
       "      <td>A</td>\n",
       "      <td>Manhattan</td>\n",
       "      <td>4</td>\n",
       "    </tr>\n",
       "    <tr>\n",
       "      <th>3</th>\n",
       "      <td>THE HALAL GUYS</td>\n",
       "      <td>A</td>\n",
       "      <td>Manhattan</td>\n",
       "      <td>4</td>\n",
       "    </tr>\n",
       "    <tr>\n",
       "      <th>4</th>\n",
       "      <td>LIDO</td>\n",
       "      <td>A</td>\n",
       "      <td>Manhattan</td>\n",
       "      <td>4</td>\n",
       "    </tr>\n",
       "  </tbody>\n",
       "</table>\n",
       "</div>"
      ],
      "text/plain": [
       "            Restaurant_Name Grade       Boro  Rating\n",
       "0                  LOCAL 92     A  Manhattan       4\n",
       "1  VANESSA'S DUMPLING HOUSE     A   Brooklyn       4\n",
       "2                BENITO ONE     A  Manhattan       4\n",
       "3            THE HALAL GUYS     A  Manhattan       4\n",
       "4                      LIDO     A  Manhattan       4"
      ]
     },
     "execution_count": 142,
     "metadata": {},
     "output_type": "execute_result"
    }
   ],
   "source": [
    "pd.read_sql_query('select * from \"Final_Table\";', con=engine).head()"
   ]
  },
  {
   "cell_type": "code",
   "execution_count": null,
   "metadata": {},
   "outputs": [],
   "source": []
  }
 ],
 "metadata": {
  "kernelspec": {
   "display_name": "Python 3",
   "language": "python",
   "name": "python3"
  },
  "language_info": {
   "codemirror_mode": {
    "name": "ipython",
    "version": 3
   },
   "file_extension": ".py",
   "mimetype": "text/x-python",
   "name": "python",
   "nbconvert_exporter": "python",
   "pygments_lexer": "ipython3",
   "version": "3.7.3"
  },
  "nteract": {
   "version": "0.12.3"
  }
 },
 "nbformat": 4,
 "nbformat_minor": 2
}
