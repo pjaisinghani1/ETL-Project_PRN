{
 "cells": [
  {
   "cell_type": "code",
   "execution_count": 78,
   "metadata": {},
   "outputs": [],
   "source": [
    "# Dependencies\n",
    "\n",
    "import pandas as pd\n",
    "from sqlalchemy import create_engine\n",
    "from flask import Flask, jsonify\n",
    "import json\n",
    "import requests\n",
    "import os\n",
    "import csv\n",
    "import numpy as np\n",
    "import matplotlib.pyplot as plt\n",
    "from pprint import pprint\n"
   ]
  },
  {
   "cell_type": "markdown",
   "metadata": {
    "slideshow": {
     "slide_type": "-"
    }
   },
   "source": [
    "### Store CSV into DataFrame"
   ]
  },
  {
   "cell_type": "code",
   "execution_count": 79,
   "metadata": {
    "scrolled": true
   },
   "outputs": [
    {
     "data": {
      "text/html": [
       "<div>\n",
       "<style scoped>\n",
       "    .dataframe tbody tr th:only-of-type {\n",
       "        vertical-align: middle;\n",
       "    }\n",
       "\n",
       "    .dataframe tbody tr th {\n",
       "        vertical-align: top;\n",
       "    }\n",
       "\n",
       "    .dataframe thead th {\n",
       "        text-align: right;\n",
       "    }\n",
       "</style>\n",
       "<table border=\"1\" class=\"dataframe\">\n",
       "  <thead>\n",
       "    <tr style=\"text-align: right;\">\n",
       "      <th></th>\n",
       "      <th>CAMIS</th>\n",
       "      <th>DBA</th>\n",
       "      <th>BORO</th>\n",
       "      <th>BUILDING</th>\n",
       "      <th>STREET</th>\n",
       "      <th>ZIPCODE</th>\n",
       "      <th>PHONE</th>\n",
       "      <th>CUISINE DESCRIPTION</th>\n",
       "      <th>INSPECTION DATE</th>\n",
       "      <th>ACTION</th>\n",
       "      <th>...</th>\n",
       "      <th>RECORD DATE</th>\n",
       "      <th>INSPECTION TYPE</th>\n",
       "      <th>Latitude</th>\n",
       "      <th>Longitude</th>\n",
       "      <th>Community Board</th>\n",
       "      <th>Council District</th>\n",
       "      <th>Census Tract</th>\n",
       "      <th>BIN</th>\n",
       "      <th>BBL</th>\n",
       "      <th>NTA</th>\n",
       "    </tr>\n",
       "  </thead>\n",
       "  <tbody>\n",
       "    <tr>\n",
       "      <th>0</th>\n",
       "      <td>50059672</td>\n",
       "      <td>GOOD FRIENDS 1</td>\n",
       "      <td>Brooklyn</td>\n",
       "      <td>1376</td>\n",
       "      <td>NOSTRAND AVE</td>\n",
       "      <td>11226.0</td>\n",
       "      <td>7182872345</td>\n",
       "      <td>Chinese</td>\n",
       "      <td>09/06/2018</td>\n",
       "      <td>Establishment Closed by DOHMH.  Violations wer...</td>\n",
       "      <td>...</td>\n",
       "      <td>10/11/2019</td>\n",
       "      <td>Cycle Inspection / Initial Inspection</td>\n",
       "      <td>40.653158</td>\n",
       "      <td>-73.949837</td>\n",
       "      <td>317.0</td>\n",
       "      <td>40.0</td>\n",
       "      <td>82000.0</td>\n",
       "      <td>3116688.0</td>\n",
       "      <td>3.050850e+09</td>\n",
       "      <td>BK60</td>\n",
       "    </tr>\n",
       "    <tr>\n",
       "      <th>1</th>\n",
       "      <td>50034192</td>\n",
       "      <td>K'OOK</td>\n",
       "      <td>Manhattan</td>\n",
       "      <td>324</td>\n",
       "      <td>E 6TH ST</td>\n",
       "      <td>10003.0</td>\n",
       "      <td>2122540300</td>\n",
       "      <td>Korean</td>\n",
       "      <td>08/14/2017</td>\n",
       "      <td>Violations were cited in the following area(s).</td>\n",
       "      <td>...</td>\n",
       "      <td>10/11/2019</td>\n",
       "      <td>Cycle Inspection / Initial Inspection</td>\n",
       "      <td>40.727066</td>\n",
       "      <td>-73.987780</td>\n",
       "      <td>103.0</td>\n",
       "      <td>2.0</td>\n",
       "      <td>3800.0</td>\n",
       "      <td>1006234.0</td>\n",
       "      <td>1.004470e+09</td>\n",
       "      <td>MN22</td>\n",
       "    </tr>\n",
       "    <tr>\n",
       "      <th>2</th>\n",
       "      <td>50033885</td>\n",
       "      <td>A&amp;H DELI</td>\n",
       "      <td>Manhattan</td>\n",
       "      <td>431</td>\n",
       "      <td>7TH AVE</td>\n",
       "      <td>10001.0</td>\n",
       "      <td>2125636200</td>\n",
       "      <td>American</td>\n",
       "      <td>06/06/2016</td>\n",
       "      <td>Violations were cited in the following area(s).</td>\n",
       "      <td>...</td>\n",
       "      <td>10/11/2019</td>\n",
       "      <td>Cycle Inspection / Re-inspection</td>\n",
       "      <td>40.750710</td>\n",
       "      <td>-73.990811</td>\n",
       "      <td>105.0</td>\n",
       "      <td>3.0</td>\n",
       "      <td>10100.0</td>\n",
       "      <td>1015218.0</td>\n",
       "      <td>1.008090e+09</td>\n",
       "      <td>MN17</td>\n",
       "    </tr>\n",
       "    <tr>\n",
       "      <th>3</th>\n",
       "      <td>41519373</td>\n",
       "      <td>BUNGALO</td>\n",
       "      <td>Queens</td>\n",
       "      <td>3203</td>\n",
       "      <td>BROADWAY</td>\n",
       "      <td>11106.0</td>\n",
       "      <td>7182047010</td>\n",
       "      <td>Armenian</td>\n",
       "      <td>01/21/2017</td>\n",
       "      <td>No violations were recorded at the time of thi...</td>\n",
       "      <td>...</td>\n",
       "      <td>10/11/2019</td>\n",
       "      <td>Inter-Agency Task Force / Initial Inspection</td>\n",
       "      <td>40.761538</td>\n",
       "      <td>-73.924450</td>\n",
       "      <td>401.0</td>\n",
       "      <td>22.0</td>\n",
       "      <td>6100.0</td>\n",
       "      <td>4008406.0</td>\n",
       "      <td>4.006140e+09</td>\n",
       "      <td>QN70</td>\n",
       "    </tr>\n",
       "    <tr>\n",
       "      <th>4</th>\n",
       "      <td>50016112</td>\n",
       "      <td>ANTOJITOS ECUATORIANOS</td>\n",
       "      <td>Brooklyn</td>\n",
       "      <td>3398</td>\n",
       "      <td>FULTON ST</td>\n",
       "      <td>11208.0</td>\n",
       "      <td>7182770970</td>\n",
       "      <td>Latin (Cuban, Dominican, Puerto Rican, South &amp;...</td>\n",
       "      <td>07/11/2018</td>\n",
       "      <td>Violations were cited in the following area(s).</td>\n",
       "      <td>...</td>\n",
       "      <td>10/11/2019</td>\n",
       "      <td>Cycle Inspection / Re-inspection</td>\n",
       "      <td>40.684208</td>\n",
       "      <td>-73.870173</td>\n",
       "      <td>305.0</td>\n",
       "      <td>37.0</td>\n",
       "      <td>118400.0</td>\n",
       "      <td>3092908.0</td>\n",
       "      <td>3.041490e+09</td>\n",
       "      <td>BK83</td>\n",
       "    </tr>\n",
       "  </tbody>\n",
       "</table>\n",
       "<p>5 rows × 26 columns</p>\n",
       "</div>"
      ],
      "text/plain": [
       "      CAMIS                     DBA       BORO BUILDING        STREET  \\\n",
       "0  50059672          GOOD FRIENDS 1   Brooklyn     1376  NOSTRAND AVE   \n",
       "1  50034192                   K'OOK  Manhattan      324      E 6TH ST   \n",
       "2  50033885                A&H DELI  Manhattan      431       7TH AVE   \n",
       "3  41519373                 BUNGALO     Queens     3203      BROADWAY   \n",
       "4  50016112  ANTOJITOS ECUATORIANOS   Brooklyn     3398     FULTON ST   \n",
       "\n",
       "   ZIPCODE       PHONE                                CUISINE DESCRIPTION  \\\n",
       "0  11226.0  7182872345                                            Chinese   \n",
       "1  10003.0  2122540300                                             Korean   \n",
       "2  10001.0  2125636200                                           American   \n",
       "3  11106.0  7182047010                                           Armenian   \n",
       "4  11208.0  7182770970  Latin (Cuban, Dominican, Puerto Rican, South &...   \n",
       "\n",
       "  INSPECTION DATE                                             ACTION  ...  \\\n",
       "0      09/06/2018  Establishment Closed by DOHMH.  Violations wer...  ...   \n",
       "1      08/14/2017    Violations were cited in the following area(s).  ...   \n",
       "2      06/06/2016    Violations were cited in the following area(s).  ...   \n",
       "3      01/21/2017  No violations were recorded at the time of thi...  ...   \n",
       "4      07/11/2018    Violations were cited in the following area(s).  ...   \n",
       "\n",
       "  RECORD DATE                               INSPECTION TYPE   Latitude  \\\n",
       "0  10/11/2019         Cycle Inspection / Initial Inspection  40.653158   \n",
       "1  10/11/2019         Cycle Inspection / Initial Inspection  40.727066   \n",
       "2  10/11/2019              Cycle Inspection / Re-inspection  40.750710   \n",
       "3  10/11/2019  Inter-Agency Task Force / Initial Inspection  40.761538   \n",
       "4  10/11/2019              Cycle Inspection / Re-inspection  40.684208   \n",
       "\n",
       "   Longitude Community Board Council District Census Tract        BIN  \\\n",
       "0 -73.949837           317.0             40.0      82000.0  3116688.0   \n",
       "1 -73.987780           103.0              2.0       3800.0  1006234.0   \n",
       "2 -73.990811           105.0              3.0      10100.0  1015218.0   \n",
       "3 -73.924450           401.0             22.0       6100.0  4008406.0   \n",
       "4 -73.870173           305.0             37.0     118400.0  3092908.0   \n",
       "\n",
       "            BBL   NTA  \n",
       "0  3.050850e+09  BK60  \n",
       "1  1.004470e+09  MN22  \n",
       "2  1.008090e+09  MN17  \n",
       "3  4.006140e+09  QN70  \n",
       "4  3.041490e+09  BK83  \n",
       "\n",
       "[5 rows x 26 columns]"
      ]
     },
     "execution_count": 79,
     "metadata": {},
     "output_type": "execute_result"
    }
   ],
   "source": [
    "# Imported NYC Restaurant Health Inspection CSV into Pandas DataFrame\n",
    "\n",
    "csv_file = \"../Resources/DOHMH_New_York_City_Restaurant_Inspection_Results.csv\"\n",
    "inspection_data_df = pd.read_csv(csv_file)\n",
    "inspection_data_df.head()"
   ]
  },
  {
   "cell_type": "markdown",
   "metadata": {},
   "source": [
    "### Create new data with select columns"
   ]
  },
  {
   "cell_type": "code",
   "execution_count": 113,
   "metadata": {},
   "outputs": [
    {
     "data": {
      "text/html": [
       "<div>\n",
       "<style scoped>\n",
       "    .dataframe tbody tr th:only-of-type {\n",
       "        vertical-align: middle;\n",
       "    }\n",
       "\n",
       "    .dataframe tbody tr th {\n",
       "        vertical-align: top;\n",
       "    }\n",
       "\n",
       "    .dataframe thead th {\n",
       "        text-align: right;\n",
       "    }\n",
       "</style>\n",
       "<table border=\"1\" class=\"dataframe\">\n",
       "  <thead>\n",
       "    <tr style=\"text-align: right;\">\n",
       "      <th></th>\n",
       "      <th>DBA</th>\n",
       "      <th>BUILDING</th>\n",
       "      <th>STREET</th>\n",
       "      <th>ZIPCODE</th>\n",
       "      <th>BORO</th>\n",
       "      <th>GRADE</th>\n",
       "    </tr>\n",
       "  </thead>\n",
       "  <tbody>\n",
       "    <tr>\n",
       "      <th>2</th>\n",
       "      <td>A&amp;H DELI</td>\n",
       "      <td>431</td>\n",
       "      <td>7TH AVE</td>\n",
       "      <td>10001.0</td>\n",
       "      <td>Manhattan</td>\n",
       "      <td>A</td>\n",
       "    </tr>\n",
       "    <tr>\n",
       "      <th>4</th>\n",
       "      <td>ANTOJITOS ECUATORIANOS</td>\n",
       "      <td>3398</td>\n",
       "      <td>FULTON ST</td>\n",
       "      <td>11208.0</td>\n",
       "      <td>Brooklyn</td>\n",
       "      <td>A</td>\n",
       "    </tr>\n",
       "    <tr>\n",
       "      <th>8</th>\n",
       "      <td>I LAND FISH &amp; GRILL</td>\n",
       "      <td>7911</td>\n",
       "      <td>FLATLANDS AVE</td>\n",
       "      <td>11236.0</td>\n",
       "      <td>Brooklyn</td>\n",
       "      <td>B</td>\n",
       "    </tr>\n",
       "    <tr>\n",
       "      <th>9</th>\n",
       "      <td>CAFE LAFAYETTE</td>\n",
       "      <td>80</td>\n",
       "      <td>LAFAYETTE STREET</td>\n",
       "      <td>10013.0</td>\n",
       "      <td>Manhattan</td>\n",
       "      <td>A</td>\n",
       "    </tr>\n",
       "    <tr>\n",
       "      <th>12</th>\n",
       "      <td>FLY BAR</td>\n",
       "      <td>4224</td>\n",
       "      <td>COLLEGE POINT BLVD</td>\n",
       "      <td>11355.0</td>\n",
       "      <td>Queens</td>\n",
       "      <td>A</td>\n",
       "    </tr>\n",
       "  </tbody>\n",
       "</table>\n",
       "</div>"
      ],
      "text/plain": [
       "                       DBA BUILDING              STREET  ZIPCODE       BORO  \\\n",
       "2                 A&H DELI      431             7TH AVE  10001.0  Manhattan   \n",
       "4   ANTOJITOS ECUATORIANOS     3398           FULTON ST  11208.0   Brooklyn   \n",
       "8      I LAND FISH & GRILL     7911       FLATLANDS AVE  11236.0   Brooklyn   \n",
       "9           CAFE LAFAYETTE       80    LAFAYETTE STREET  10013.0  Manhattan   \n",
       "12                 FLY BAR     4224  COLLEGE POINT BLVD  11355.0     Queens   \n",
       "\n",
       "   GRADE  \n",
       "2      A  \n",
       "4      A  \n",
       "8      B  \n",
       "9      A  \n",
       "12     A  "
      ]
     },
     "execution_count": 113,
     "metadata": {},
     "output_type": "execute_result"
    }
   ],
   "source": [
    "# Select relevant columns: DBA (name), Building, Street, Zipcode, Boro, Grade\n",
    "\n",
    "new_inspection_data_df = inspection_data_df[['DBA', 'BUILDING', 'STREET', 'ZIPCODE', 'BORO', 'GRADE']].copy()\n",
    "new_inspection_data_df = new_inspection_data_df.dropna()\n",
    "new_inspection_data_df.head()"
   ]
  },
  {
   "cell_type": "markdown",
   "metadata": {},
   "source": [
    "### Yelp API Response"
   ]
  },
  {
   "cell_type": "code",
   "execution_count": 117,
   "metadata": {},
   "outputs": [],
   "source": [
    "#Setting up parameters for the API Key\n",
    "api_key='KMXu7o4jj9H_5fBmmoxcQUXUcjaIiDMpnabg34SZhyJUQPt-H6y8sfBIq8jI65xOovUH7cKhDpTUnvK2UIFOf1r5864boyx0PCcIwR4QQ1OeR8IWr5RO7UxW3HJoXXYx'\n",
    "headers = {'Authorization': 'Bearer %s' % api_key}\n",
    "\n",
    "#Defining the Business Search end point url\n",
    "url='https://api.yelp.com/v3/businesses/search'"
   ]
  },
  {
   "cell_type": "code",
   "execution_count": 123,
   "metadata": {},
   "outputs": [],
   "source": [
    "# Pulling data for 1,000 restaurants in NYC\n",
    "categories = ['Italian', 'American', 'Mexican', 'Chinese', 'Cuban']\n",
    "restaurants = []\n",
    "\n",
    "for category in categories:\n",
    "    for offset in range(0,1000,50):\n",
    "        params = {'term':'restaurants','categories': category,'location':'New York','limit':50, 'offset':offset}\n",
    "        response = requests.get(url, params=params, headers=headers).json()\n",
    "        restaurants.append(dict(response))"
   ]
  },
  {
   "cell_type": "code",
   "execution_count": 124,
   "metadata": {},
   "outputs": [],
   "source": [
    "#pprint(restaurants[1])"
   ]
  },
  {
   "cell_type": "code",
   "execution_count": 125,
   "metadata": {},
   "outputs": [],
   "source": [
    "#Defining empty dictionary to save only required elements\n",
    "final = {}\n",
    "\n",
    "#Defining Empty list to append all the data \n",
    "data = []\n",
    "\n",
    "for restaurant in restaurants:\n",
    "    try:\n",
    "        for item in restaurant['businesses']:\n",
    "            final['Restaurant Name'] = item['name']\n",
    "            final['City'] = item['location']['city']\n",
    "            final['Rating'] = item['rating']\n",
    "            data.append(dict(final))\n",
    "    except:   \n",
    "        restaurant['businesses'] = float('nan')"
   ]
  },
  {
   "cell_type": "code",
   "execution_count": 133,
   "metadata": {
    "scrolled": true
   },
   "outputs": [
    {
     "data": {
      "text/html": [
       "<div>\n",
       "<style scoped>\n",
       "    .dataframe tbody tr th:only-of-type {\n",
       "        vertical-align: middle;\n",
       "    }\n",
       "\n",
       "    .dataframe tbody tr th {\n",
       "        vertical-align: top;\n",
       "    }\n",
       "\n",
       "    .dataframe thead th {\n",
       "        text-align: right;\n",
       "    }\n",
       "</style>\n",
       "<table border=\"1\" class=\"dataframe\">\n",
       "  <thead>\n",
       "    <tr style=\"text-align: right;\">\n",
       "      <th></th>\n",
       "      <th>City</th>\n",
       "      <th>Rating</th>\n",
       "      <th>Restaurant Name</th>\n",
       "    </tr>\n",
       "  </thead>\n",
       "  <tbody>\n",
       "    <tr>\n",
       "      <th>0</th>\n",
       "      <td>New York</td>\n",
       "      <td>4.5</td>\n",
       "      <td>Upstate</td>\n",
       "    </tr>\n",
       "    <tr>\n",
       "      <th>1</th>\n",
       "      <td>New York</td>\n",
       "      <td>4.5</td>\n",
       "      <td>Amélie</td>\n",
       "    </tr>\n",
       "    <tr>\n",
       "      <th>2</th>\n",
       "      <td>New York</td>\n",
       "      <td>4.0</td>\n",
       "      <td>Clinton Street Baking Company</td>\n",
       "    </tr>\n",
       "    <tr>\n",
       "      <th>3</th>\n",
       "      <td>New York</td>\n",
       "      <td>4.5</td>\n",
       "      <td>LoveMama</td>\n",
       "    </tr>\n",
       "    <tr>\n",
       "      <th>4</th>\n",
       "      <td>New York</td>\n",
       "      <td>4.5</td>\n",
       "      <td>Barn Joo 35</td>\n",
       "    </tr>\n",
       "  </tbody>\n",
       "</table>\n",
       "</div>"
      ],
      "text/plain": [
       "       City  Rating                Restaurant Name\n",
       "0  New York     4.5                        Upstate\n",
       "1  New York     4.5                         Amélie\n",
       "2  New York     4.0  Clinton Street Baking Company\n",
       "3  New York     4.5                       LoveMama\n",
       "4  New York     4.5                    Barn Joo 35"
      ]
     },
     "execution_count": 133,
     "metadata": {},
     "output_type": "execute_result"
    }
   ],
   "source": [
    "# Creating a DataFrame to save restaurant name, neighborhood, rating\n",
    "restaurants_df = pd.DataFrame(data)\n",
    "restaurants_df.head()"
   ]
  },
  {
   "cell_type": "code",
   "execution_count": 145,
   "metadata": {},
   "outputs": [
    {
     "data": {
      "text/plain": [
       "City               5000\n",
       "Rating             5000\n",
       "Restaurant Name    5000\n",
       "dtype: int64"
      ]
     },
     "execution_count": 145,
     "metadata": {},
     "output_type": "execute_result"
    }
   ],
   "source": [
    "#Dropping Nan values\n",
    "restaurants_df.dropna(axis='index',how='all',inplace=True)\n",
    "restaurants_df.reset_index(drop=True)\n",
    "restaurants_df.count()"
   ]
  },
  {
   "cell_type": "code",
   "execution_count": null,
   "metadata": {},
   "outputs": [],
   "source": [
    "# Convert restaurant names to uppercase to match DBA column in health inpection dataframe. This will be our primary key.\n",
    "restaurants_df['Restaurant Name'] = restaurants_df['Restaurant Name'].str.upper() \n",
    "restaurants_df.head()"
   ]
  },
  {
   "cell_type": "markdown",
   "metadata": {},
   "source": [
    "### Connect to local database"
   ]
  },
  {
   "cell_type": "code",
   "execution_count": 27,
   "metadata": {},
   "outputs": [],
   "source": [
    "rds_connection_string = \"postgres:rutgers@localhost:5432/customer_db\"\n",
    "engine = create_engine(f'postgresql://{rds_connection_string}')"
   ]
  },
  {
   "cell_type": "markdown",
   "metadata": {},
   "source": [
    "### Check for tables"
   ]
  },
  {
   "cell_type": "code",
   "execution_count": 28,
   "metadata": {},
   "outputs": [
    {
     "data": {
      "text/plain": [
       "[]"
      ]
     },
     "execution_count": 28,
     "metadata": {},
     "output_type": "execute_result"
    }
   ],
   "source": [
    "engine.table_names()"
   ]
  },
  {
   "cell_type": "markdown",
   "metadata": {},
   "source": [
    "### Use pandas to load csv converted DataFrame into database"
   ]
  },
  {
   "cell_type": "code",
   "execution_count": 29,
   "metadata": {},
   "outputs": [],
   "source": [
    "new_customer_data_df.to_sql(name='customer_name', con=engine, if_exists='append', index=False)"
   ]
  },
  {
   "cell_type": "markdown",
   "metadata": {},
   "source": [
    "### Use pandas to load json converted DataFrame into database"
   ]
  },
  {
   "cell_type": "code",
   "execution_count": 30,
   "metadata": {},
   "outputs": [],
   "source": [
    "new_customer_location_df.to_sql(name='customer_location', con=engine, if_exists='append', index=False)"
   ]
  },
  {
   "cell_type": "markdown",
   "metadata": {},
   "source": [
    "### Confirm data has been added by querying the customer_name table\n",
    "* NOTE: can also check using pgAdmin"
   ]
  },
  {
   "cell_type": "code",
   "execution_count": 31,
   "metadata": {},
   "outputs": [
    {
     "data": {
      "text/html": [
       "<div>\n",
       "<style scoped>\n",
       "    .dataframe tbody tr th:only-of-type {\n",
       "        vertical-align: middle;\n",
       "    }\n",
       "\n",
       "    .dataframe tbody tr th {\n",
       "        vertical-align: top;\n",
       "    }\n",
       "\n",
       "    .dataframe thead th {\n",
       "        text-align: right;\n",
       "    }\n",
       "</style>\n",
       "<table border=\"1\" class=\"dataframe\">\n",
       "  <thead>\n",
       "    <tr style=\"text-align: right;\">\n",
       "      <th></th>\n",
       "      <th>id</th>\n",
       "      <th>first_name</th>\n",
       "      <th>last_name</th>\n",
       "    </tr>\n",
       "  </thead>\n",
       "  <tbody>\n",
       "    <tr>\n",
       "      <th>0</th>\n",
       "      <td>1</td>\n",
       "      <td>Benetta</td>\n",
       "      <td>Cancott</td>\n",
       "    </tr>\n",
       "    <tr>\n",
       "      <th>1</th>\n",
       "      <td>2</td>\n",
       "      <td>Lilyan</td>\n",
       "      <td>Cherry</td>\n",
       "    </tr>\n",
       "    <tr>\n",
       "      <th>2</th>\n",
       "      <td>3</td>\n",
       "      <td>Ezekiel</td>\n",
       "      <td>Benasik</td>\n",
       "    </tr>\n",
       "    <tr>\n",
       "      <th>3</th>\n",
       "      <td>4</td>\n",
       "      <td>Kennedy</td>\n",
       "      <td>Atlay</td>\n",
       "    </tr>\n",
       "    <tr>\n",
       "      <th>4</th>\n",
       "      <td>5</td>\n",
       "      <td>Sanford</td>\n",
       "      <td>Salmen</td>\n",
       "    </tr>\n",
       "  </tbody>\n",
       "</table>\n",
       "</div>"
      ],
      "text/plain": [
       "   id first_name last_name\n",
       "0   1    Benetta   Cancott\n",
       "1   2     Lilyan    Cherry\n",
       "2   3    Ezekiel   Benasik\n",
       "3   4    Kennedy     Atlay\n",
       "4   5    Sanford    Salmen"
      ]
     },
     "execution_count": 31,
     "metadata": {},
     "output_type": "execute_result"
    }
   ],
   "source": [
    "pd.read_sql_query('select * from customer_name', con=engine).head()"
   ]
  },
  {
   "cell_type": "markdown",
   "metadata": {},
   "source": [
    "### Confirm data has been added by querying the customer_location table"
   ]
  },
  {
   "cell_type": "code",
   "execution_count": 32,
   "metadata": {},
   "outputs": [
    {
     "data": {
      "text/html": [
       "<div>\n",
       "<style scoped>\n",
       "    .dataframe tbody tr th:only-of-type {\n",
       "        vertical-align: middle;\n",
       "    }\n",
       "\n",
       "    .dataframe tbody tr th {\n",
       "        vertical-align: top;\n",
       "    }\n",
       "\n",
       "    .dataframe thead th {\n",
       "        text-align: right;\n",
       "    }\n",
       "</style>\n",
       "<table border=\"1\" class=\"dataframe\">\n",
       "  <thead>\n",
       "    <tr style=\"text-align: right;\">\n",
       "      <th></th>\n",
       "      <th>id</th>\n",
       "      <th>address</th>\n",
       "      <th>us_state</th>\n",
       "    </tr>\n",
       "  </thead>\n",
       "  <tbody>\n",
       "    <tr>\n",
       "      <th>0</th>\n",
       "      <td>1</td>\n",
       "      <td>043 Mockingbird Place</td>\n",
       "      <td>Indiana</td>\n",
       "    </tr>\n",
       "    <tr>\n",
       "      <th>1</th>\n",
       "      <td>2</td>\n",
       "      <td>4 Prentice Point</td>\n",
       "      <td>Indiana</td>\n",
       "    </tr>\n",
       "    <tr>\n",
       "      <th>2</th>\n",
       "      <td>3</td>\n",
       "      <td>46 Derek Junction</td>\n",
       "      <td>Texas</td>\n",
       "    </tr>\n",
       "    <tr>\n",
       "      <th>3</th>\n",
       "      <td>4</td>\n",
       "      <td>11966 Old Shore Place</td>\n",
       "      <td>Missouri</td>\n",
       "    </tr>\n",
       "    <tr>\n",
       "      <th>4</th>\n",
       "      <td>5</td>\n",
       "      <td>5 Evergreen Circle</td>\n",
       "      <td>New York</td>\n",
       "    </tr>\n",
       "  </tbody>\n",
       "</table>\n",
       "</div>"
      ],
      "text/plain": [
       "   id                address  us_state\n",
       "0   1  043 Mockingbird Place   Indiana\n",
       "1   2       4 Prentice Point   Indiana\n",
       "2   3      46 Derek Junction     Texas\n",
       "3   4  11966 Old Shore Place  Missouri\n",
       "4   5     5 Evergreen Circle  New York"
      ]
     },
     "execution_count": 32,
     "metadata": {},
     "output_type": "execute_result"
    }
   ],
   "source": [
    "pd.read_sql_query('select * from customer_location', con=engine).head()"
   ]
  },
  {
   "cell_type": "code",
   "execution_count": null,
   "metadata": {},
   "outputs": [],
   "source": []
  }
 ],
 "metadata": {
  "kernelspec": {
   "display_name": "Python 3",
   "language": "python",
   "name": "python3"
  },
  "language_info": {
   "codemirror_mode": {
    "name": "ipython",
    "version": 3
   },
   "file_extension": ".py",
   "mimetype": "text/x-python",
   "name": "python",
   "nbconvert_exporter": "python",
   "pygments_lexer": "ipython3",
   "version": "3.7.3"
  },
  "nteract": {
   "version": "0.12.3"
  }
 },
 "nbformat": 4,
 "nbformat_minor": 2
}
