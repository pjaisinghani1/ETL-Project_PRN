{
 "cells": [
  {
   "cell_type": "code",
   "execution_count": 30,
   "metadata": {},
   "outputs": [],
   "source": [
    "# Dependencies\n",
    "\n",
    "import pandas as pd\n",
    "from sqlalchemy import create_engine\n",
    "from flask import Flask, jsonify\n",
    "import json\n",
    "import requests"
   ]
  },
  {
   "cell_type": "markdown",
   "metadata": {
    "slideshow": {
     "slide_type": "-"
    }
   },
   "source": [
    "### Store CSV into DataFrame"
   ]
  },
  {
   "cell_type": "code",
   "execution_count": 51,
   "metadata": {
    "scrolled": true
   },
   "outputs": [
    {
     "data": {
      "text/html": [
       "<div>\n",
       "<style scoped>\n",
       "    .dataframe tbody tr th:only-of-type {\n",
       "        vertical-align: middle;\n",
       "    }\n",
       "\n",
       "    .dataframe tbody tr th {\n",
       "        vertical-align: top;\n",
       "    }\n",
       "\n",
       "    .dataframe thead th {\n",
       "        text-align: right;\n",
       "    }\n",
       "</style>\n",
       "<table border=\"1\" class=\"dataframe\">\n",
       "  <thead>\n",
       "    <tr style=\"text-align: right;\">\n",
       "      <th></th>\n",
       "      <th>CAMIS</th>\n",
       "      <th>DBA</th>\n",
       "      <th>BORO</th>\n",
       "      <th>BUILDING</th>\n",
       "      <th>STREET</th>\n",
       "      <th>ZIPCODE</th>\n",
       "      <th>PHONE</th>\n",
       "      <th>CUISINE DESCRIPTION</th>\n",
       "      <th>INSPECTION DATE</th>\n",
       "      <th>ACTION</th>\n",
       "      <th>...</th>\n",
       "      <th>RECORD DATE</th>\n",
       "      <th>INSPECTION TYPE</th>\n",
       "      <th>Latitude</th>\n",
       "      <th>Longitude</th>\n",
       "      <th>Community Board</th>\n",
       "      <th>Council District</th>\n",
       "      <th>Census Tract</th>\n",
       "      <th>BIN</th>\n",
       "      <th>BBL</th>\n",
       "      <th>NTA</th>\n",
       "    </tr>\n",
       "  </thead>\n",
       "  <tbody>\n",
       "    <tr>\n",
       "      <th>0</th>\n",
       "      <td>50059672</td>\n",
       "      <td>GOOD FRIENDS 1</td>\n",
       "      <td>Brooklyn</td>\n",
       "      <td>1376</td>\n",
       "      <td>NOSTRAND AVE</td>\n",
       "      <td>11226.0</td>\n",
       "      <td>7182872345</td>\n",
       "      <td>Chinese</td>\n",
       "      <td>09/06/2018</td>\n",
       "      <td>Establishment Closed by DOHMH.  Violations wer...</td>\n",
       "      <td>...</td>\n",
       "      <td>10/11/2019</td>\n",
       "      <td>Cycle Inspection / Initial Inspection</td>\n",
       "      <td>40.653158</td>\n",
       "      <td>-73.949837</td>\n",
       "      <td>317.0</td>\n",
       "      <td>40.0</td>\n",
       "      <td>82000.0</td>\n",
       "      <td>3116688.0</td>\n",
       "      <td>3.050850e+09</td>\n",
       "      <td>BK60</td>\n",
       "    </tr>\n",
       "    <tr>\n",
       "      <th>1</th>\n",
       "      <td>50034192</td>\n",
       "      <td>K'OOK</td>\n",
       "      <td>Manhattan</td>\n",
       "      <td>324</td>\n",
       "      <td>E 6TH ST</td>\n",
       "      <td>10003.0</td>\n",
       "      <td>2122540300</td>\n",
       "      <td>Korean</td>\n",
       "      <td>08/14/2017</td>\n",
       "      <td>Violations were cited in the following area(s).</td>\n",
       "      <td>...</td>\n",
       "      <td>10/11/2019</td>\n",
       "      <td>Cycle Inspection / Initial Inspection</td>\n",
       "      <td>40.727066</td>\n",
       "      <td>-73.987780</td>\n",
       "      <td>103.0</td>\n",
       "      <td>2.0</td>\n",
       "      <td>3800.0</td>\n",
       "      <td>1006234.0</td>\n",
       "      <td>1.004470e+09</td>\n",
       "      <td>MN22</td>\n",
       "    </tr>\n",
       "    <tr>\n",
       "      <th>2</th>\n",
       "      <td>50033885</td>\n",
       "      <td>A&amp;H DELI</td>\n",
       "      <td>Manhattan</td>\n",
       "      <td>431</td>\n",
       "      <td>7TH AVE</td>\n",
       "      <td>10001.0</td>\n",
       "      <td>2125636200</td>\n",
       "      <td>American</td>\n",
       "      <td>06/06/2016</td>\n",
       "      <td>Violations were cited in the following area(s).</td>\n",
       "      <td>...</td>\n",
       "      <td>10/11/2019</td>\n",
       "      <td>Cycle Inspection / Re-inspection</td>\n",
       "      <td>40.750710</td>\n",
       "      <td>-73.990811</td>\n",
       "      <td>105.0</td>\n",
       "      <td>3.0</td>\n",
       "      <td>10100.0</td>\n",
       "      <td>1015218.0</td>\n",
       "      <td>1.008090e+09</td>\n",
       "      <td>MN17</td>\n",
       "    </tr>\n",
       "    <tr>\n",
       "      <th>3</th>\n",
       "      <td>41519373</td>\n",
       "      <td>BUNGALO</td>\n",
       "      <td>Queens</td>\n",
       "      <td>3203</td>\n",
       "      <td>BROADWAY</td>\n",
       "      <td>11106.0</td>\n",
       "      <td>7182047010</td>\n",
       "      <td>Armenian</td>\n",
       "      <td>01/21/2017</td>\n",
       "      <td>No violations were recorded at the time of thi...</td>\n",
       "      <td>...</td>\n",
       "      <td>10/11/2019</td>\n",
       "      <td>Inter-Agency Task Force / Initial Inspection</td>\n",
       "      <td>40.761538</td>\n",
       "      <td>-73.924450</td>\n",
       "      <td>401.0</td>\n",
       "      <td>22.0</td>\n",
       "      <td>6100.0</td>\n",
       "      <td>4008406.0</td>\n",
       "      <td>4.006140e+09</td>\n",
       "      <td>QN70</td>\n",
       "    </tr>\n",
       "    <tr>\n",
       "      <th>4</th>\n",
       "      <td>50016112</td>\n",
       "      <td>ANTOJITOS ECUATORIANOS</td>\n",
       "      <td>Brooklyn</td>\n",
       "      <td>3398</td>\n",
       "      <td>FULTON ST</td>\n",
       "      <td>11208.0</td>\n",
       "      <td>7182770970</td>\n",
       "      <td>Latin (Cuban, Dominican, Puerto Rican, South &amp;...</td>\n",
       "      <td>07/11/2018</td>\n",
       "      <td>Violations were cited in the following area(s).</td>\n",
       "      <td>...</td>\n",
       "      <td>10/11/2019</td>\n",
       "      <td>Cycle Inspection / Re-inspection</td>\n",
       "      <td>40.684208</td>\n",
       "      <td>-73.870173</td>\n",
       "      <td>305.0</td>\n",
       "      <td>37.0</td>\n",
       "      <td>118400.0</td>\n",
       "      <td>3092908.0</td>\n",
       "      <td>3.041490e+09</td>\n",
       "      <td>BK83</td>\n",
       "    </tr>\n",
       "  </tbody>\n",
       "</table>\n",
       "<p>5 rows × 26 columns</p>\n",
       "</div>"
      ],
      "text/plain": [
       "      CAMIS                     DBA       BORO BUILDING        STREET  \\\n",
       "0  50059672          GOOD FRIENDS 1   Brooklyn     1376  NOSTRAND AVE   \n",
       "1  50034192                   K'OOK  Manhattan      324      E 6TH ST   \n",
       "2  50033885                A&H DELI  Manhattan      431       7TH AVE   \n",
       "3  41519373                 BUNGALO     Queens     3203      BROADWAY   \n",
       "4  50016112  ANTOJITOS ECUATORIANOS   Brooklyn     3398     FULTON ST   \n",
       "\n",
       "   ZIPCODE       PHONE                                CUISINE DESCRIPTION  \\\n",
       "0  11226.0  7182872345                                            Chinese   \n",
       "1  10003.0  2122540300                                             Korean   \n",
       "2  10001.0  2125636200                                           American   \n",
       "3  11106.0  7182047010                                           Armenian   \n",
       "4  11208.0  7182770970  Latin (Cuban, Dominican, Puerto Rican, South &...   \n",
       "\n",
       "  INSPECTION DATE                                             ACTION  ...  \\\n",
       "0      09/06/2018  Establishment Closed by DOHMH.  Violations wer...  ...   \n",
       "1      08/14/2017    Violations were cited in the following area(s).  ...   \n",
       "2      06/06/2016    Violations were cited in the following area(s).  ...   \n",
       "3      01/21/2017  No violations were recorded at the time of thi...  ...   \n",
       "4      07/11/2018    Violations were cited in the following area(s).  ...   \n",
       "\n",
       "  RECORD DATE                               INSPECTION TYPE   Latitude  \\\n",
       "0  10/11/2019         Cycle Inspection / Initial Inspection  40.653158   \n",
       "1  10/11/2019         Cycle Inspection / Initial Inspection  40.727066   \n",
       "2  10/11/2019              Cycle Inspection / Re-inspection  40.750710   \n",
       "3  10/11/2019  Inter-Agency Task Force / Initial Inspection  40.761538   \n",
       "4  10/11/2019              Cycle Inspection / Re-inspection  40.684208   \n",
       "\n",
       "   Longitude Community Board Council District Census Tract        BIN  \\\n",
       "0 -73.949837           317.0             40.0      82000.0  3116688.0   \n",
       "1 -73.987780           103.0              2.0       3800.0  1006234.0   \n",
       "2 -73.990811           105.0              3.0      10100.0  1015218.0   \n",
       "3 -73.924450           401.0             22.0       6100.0  4008406.0   \n",
       "4 -73.870173           305.0             37.0     118400.0  3092908.0   \n",
       "\n",
       "            BBL   NTA  \n",
       "0  3.050850e+09  BK60  \n",
       "1  1.004470e+09  MN22  \n",
       "2  1.008090e+09  MN17  \n",
       "3  4.006140e+09  QN70  \n",
       "4  3.041490e+09  BK83  \n",
       "\n",
       "[5 rows x 26 columns]"
      ]
     },
     "execution_count": 51,
     "metadata": {},
     "output_type": "execute_result"
    }
   ],
   "source": [
    "# Imported NYC Restaurant Health Inspection CSV into Pandas DataFrame\n",
    "\n",
    "csv_file = \"../Resources/DOHMH_New_York_City_Restaurant_Inspection_Results.csv\"\n",
    "inspection_data_df = pd.read_csv(csv_file)\n",
    "inspection_data_df.head()"
   ]
  },
  {
   "cell_type": "markdown",
   "metadata": {},
   "source": [
    "### Create new data with select columns"
   ]
  },
  {
   "cell_type": "code",
   "execution_count": 45,
   "metadata": {},
   "outputs": [
    {
     "data": {
      "text/html": [
       "<div>\n",
       "<style scoped>\n",
       "    .dataframe tbody tr th:only-of-type {\n",
       "        vertical-align: middle;\n",
       "    }\n",
       "\n",
       "    .dataframe tbody tr th {\n",
       "        vertical-align: top;\n",
       "    }\n",
       "\n",
       "    .dataframe thead th {\n",
       "        text-align: right;\n",
       "    }\n",
       "</style>\n",
       "<table border=\"1\" class=\"dataframe\">\n",
       "  <thead>\n",
       "    <tr style=\"text-align: right;\">\n",
       "      <th></th>\n",
       "      <th>DBA</th>\n",
       "      <th>BUILDING</th>\n",
       "      <th>STREET</th>\n",
       "      <th>ZIPCODE</th>\n",
       "      <th>BORO</th>\n",
       "      <th>GRADE</th>\n",
       "    </tr>\n",
       "  </thead>\n",
       "  <tbody>\n",
       "    <tr>\n",
       "      <th>0</th>\n",
       "      <td>GOOD FRIENDS 1</td>\n",
       "      <td>1376</td>\n",
       "      <td>NOSTRAND AVE</td>\n",
       "      <td>11226.0</td>\n",
       "      <td>Brooklyn</td>\n",
       "      <td>NaN</td>\n",
       "    </tr>\n",
       "    <tr>\n",
       "      <th>1</th>\n",
       "      <td>K'OOK</td>\n",
       "      <td>324</td>\n",
       "      <td>E 6TH ST</td>\n",
       "      <td>10003.0</td>\n",
       "      <td>Manhattan</td>\n",
       "      <td>NaN</td>\n",
       "    </tr>\n",
       "    <tr>\n",
       "      <th>2</th>\n",
       "      <td>A&amp;H DELI</td>\n",
       "      <td>431</td>\n",
       "      <td>7TH AVE</td>\n",
       "      <td>10001.0</td>\n",
       "      <td>Manhattan</td>\n",
       "      <td>A</td>\n",
       "    </tr>\n",
       "    <tr>\n",
       "      <th>3</th>\n",
       "      <td>BUNGALO</td>\n",
       "      <td>3203</td>\n",
       "      <td>BROADWAY</td>\n",
       "      <td>11106.0</td>\n",
       "      <td>Queens</td>\n",
       "      <td>NaN</td>\n",
       "    </tr>\n",
       "    <tr>\n",
       "      <th>4</th>\n",
       "      <td>ANTOJITOS ECUATORIANOS</td>\n",
       "      <td>3398</td>\n",
       "      <td>FULTON ST</td>\n",
       "      <td>11208.0</td>\n",
       "      <td>Brooklyn</td>\n",
       "      <td>A</td>\n",
       "    </tr>\n",
       "  </tbody>\n",
       "</table>\n",
       "</div>"
      ],
      "text/plain": [
       "                      DBA BUILDING        STREET  ZIPCODE       BORO GRADE\n",
       "0          GOOD FRIENDS 1     1376  NOSTRAND AVE  11226.0   Brooklyn   NaN\n",
       "1                   K'OOK      324      E 6TH ST  10003.0  Manhattan   NaN\n",
       "2                A&H DELI      431       7TH AVE  10001.0  Manhattan     A\n",
       "3                 BUNGALO     3203      BROADWAY  11106.0     Queens   NaN\n",
       "4  ANTOJITOS ECUATORIANOS     3398     FULTON ST  11208.0   Brooklyn     A"
      ]
     },
     "execution_count": 45,
     "metadata": {},
     "output_type": "execute_result"
    }
   ],
   "source": [
    "# Select relevant columns: DBA (name), Building, Street, Zipcode, Boro, Grade\n",
    "\n",
    "new_inspection_data_df = inspection_data_df[['DBA', 'BUILDING', 'STREET', 'ZIPCODE', 'BORO', 'GRADE']].copy()\n",
    "new_inspection_data_df.head()"
   ]
  },
  {
   "cell_type": "markdown",
   "metadata": {},
   "source": [
    "### Store JSON data into a DataFrame"
   ]
  },
  {
   "cell_type": "code",
   "execution_count": 58,
   "metadata": {},
   "outputs": [
    {
     "data": {
      "text/plain": [
       "address         192609\n",
       "attributes      163773\n",
       "business_id     192609\n",
       "categories      192127\n",
       "city            192609\n",
       "hours           147779\n",
       "is_open         192609\n",
       "latitude        192609\n",
       "longitude       192609\n",
       "name            192609\n",
       "postal_code     192609\n",
       "review_count    192609\n",
       "stars           192609\n",
       "state           192609\n",
       "dtype: int64"
      ]
     },
     "execution_count": 58,
     "metadata": {},
     "output_type": "execute_result"
    }
   ],
   "source": [
    "json_file = \"../Resources/yelp_academic_dataset_business.json\"\n",
    "yelp_data_df = pd.read_json(json_file, lines=True)\n",
    "yelp_data_df.head()"
   ]
  },
  {
   "cell_type": "markdown",
   "metadata": {},
   "source": [
    "### Drop Irrelevant Data (non-restaurants, businesses outside of NYC)"
   ]
  },
  {
   "cell_type": "code",
   "execution_count": 69,
   "metadata": {
    "scrolled": true
   },
   "outputs": [
    {
     "data": {
      "text/html": [
       "<div>\n",
       "<style scoped>\n",
       "    .dataframe tbody tr th:only-of-type {\n",
       "        vertical-align: middle;\n",
       "    }\n",
       "\n",
       "    .dataframe tbody tr th {\n",
       "        vertical-align: top;\n",
       "    }\n",
       "\n",
       "    .dataframe thead th {\n",
       "        text-align: right;\n",
       "    }\n",
       "</style>\n",
       "<table border=\"1\" class=\"dataframe\">\n",
       "  <thead>\n",
       "    <tr style=\"text-align: right;\">\n",
       "      <th></th>\n",
       "      <th>address</th>\n",
       "      <th>attributes</th>\n",
       "      <th>business_id</th>\n",
       "      <th>categories</th>\n",
       "      <th>city</th>\n",
       "      <th>hours</th>\n",
       "      <th>is_open</th>\n",
       "      <th>latitude</th>\n",
       "      <th>longitude</th>\n",
       "      <th>name</th>\n",
       "      <th>postal_code</th>\n",
       "      <th>review_count</th>\n",
       "      <th>stars</th>\n",
       "      <th>state</th>\n",
       "    </tr>\n",
       "  </thead>\n",
       "  <tbody>\n",
       "    <tr>\n",
       "      <th>164311</th>\n",
       "      <td></td>\n",
       "      <td>None</td>\n",
       "      <td>U1ln0q5CwPydtPyoIeheUg</td>\n",
       "      <td>Pets, Pet Services, Dog Walkers, Pet Sitting</td>\n",
       "      <td>Union</td>\n",
       "      <td>{'Monday': '0:0-0:0', 'Tuesday': '0:0-0:0', 'W...</td>\n",
       "      <td>1</td>\n",
       "      <td>36.016102</td>\n",
       "      <td>-115.058461</td>\n",
       "      <td>Pet Sitting by Ines</td>\n",
       "      <td>07083</td>\n",
       "      <td>8</td>\n",
       "      <td>5.0</td>\n",
       "      <td>NJ</td>\n",
       "    </tr>\n",
       "  </tbody>\n",
       "</table>\n",
       "</div>"
      ],
      "text/plain": [
       "       address attributes             business_id  \\\n",
       "164311               None  U1ln0q5CwPydtPyoIeheUg   \n",
       "\n",
       "                                          categories   city  \\\n",
       "164311  Pets, Pet Services, Dog Walkers, Pet Sitting  Union   \n",
       "\n",
       "                                                    hours  is_open   latitude  \\\n",
       "164311  {'Monday': '0:0-0:0', 'Tuesday': '0:0-0:0', 'W...        1  36.016102   \n",
       "\n",
       "         longitude                 name postal_code  review_count  stars state  \n",
       "164311 -115.058461  Pet Sitting by Ines       07083             8    5.0    NJ  "
      ]
     },
     "execution_count": 69,
     "metadata": {},
     "output_type": "execute_result"
    }
   ],
   "source": [
    "yelp_data_df_ny = yelp_data_df[yelp_data_df.state == 'NJ']\n",
    "yelp_data_df_ny.head()"
   ]
  },
  {
   "cell_type": "markdown",
   "metadata": {},
   "source": [
    "### Clean DataFrame"
   ]
  },
  {
   "cell_type": "code",
   "execution_count": 49,
   "metadata": {},
   "outputs": [
    {
     "data": {
      "text/html": [
       "<div>\n",
       "<style scoped>\n",
       "    .dataframe tbody tr th:only-of-type {\n",
       "        vertical-align: middle;\n",
       "    }\n",
       "\n",
       "    .dataframe tbody tr th {\n",
       "        vertical-align: top;\n",
       "    }\n",
       "\n",
       "    .dataframe thead th {\n",
       "        text-align: right;\n",
       "    }\n",
       "</style>\n",
       "<table border=\"1\" class=\"dataframe\">\n",
       "  <thead>\n",
       "    <tr style=\"text-align: right;\">\n",
       "      <th></th>\n",
       "      <th>name</th>\n",
       "      <th>address</th>\n",
       "      <th>city</th>\n",
       "      <th>state</th>\n",
       "      <th>categories</th>\n",
       "      <th>stars</th>\n",
       "    </tr>\n",
       "  </thead>\n",
       "  <tbody>\n",
       "    <tr>\n",
       "      <th>595</th>\n",
       "      <td>Nathan's Famous</td>\n",
       "      <td>1038 State Rt 11</td>\n",
       "      <td>Champlain</td>\n",
       "      <td>NY</td>\n",
       "      <td>Convenience Stores, Hot Dogs, Gas Stations, Bu...</td>\n",
       "      <td>4.0</td>\n",
       "    </tr>\n",
       "    <tr>\n",
       "      <th>9916</th>\n",
       "      <td>Lakeside Coffee</td>\n",
       "      <td>109 Lake St</td>\n",
       "      <td>Rouses Point</td>\n",
       "      <td>NY</td>\n",
       "      <td>Coffee &amp; Tea, Sandwiches, Salad, Food, Restaur...</td>\n",
       "      <td>4.5</td>\n",
       "    </tr>\n",
       "    <tr>\n",
       "      <th>22869</th>\n",
       "      <td>China Buffet</td>\n",
       "      <td>876 State Rt 11</td>\n",
       "      <td>Champlain</td>\n",
       "      <td>NY</td>\n",
       "      <td>Buffets, Restaurants, Szechuan, Chinese, Canto...</td>\n",
       "      <td>2.5</td>\n",
       "    </tr>\n",
       "    <tr>\n",
       "      <th>27152</th>\n",
       "      <td>Valero</td>\n",
       "      <td>1038 Rt 11</td>\n",
       "      <td>Champlain</td>\n",
       "      <td>NY</td>\n",
       "      <td>Hot Dogs, Food, Convenience Stores, Gas Statio...</td>\n",
       "      <td>2.5</td>\n",
       "    </tr>\n",
       "    <tr>\n",
       "      <th>47513</th>\n",
       "      <td>Sandy's Deli &amp; Catering</td>\n",
       "      <td>133 Lake St</td>\n",
       "      <td>Rouses Point</td>\n",
       "      <td>NY</td>\n",
       "      <td>Delis, Restaurants</td>\n",
       "      <td>3.0</td>\n",
       "    </tr>\n",
       "  </tbody>\n",
       "</table>\n",
       "</div>"
      ],
      "text/plain": [
       "                          name           address          city state  \\\n",
       "595            Nathan's Famous  1038 State Rt 11     Champlain    NY   \n",
       "9916           Lakeside Coffee       109 Lake St  Rouses Point    NY   \n",
       "22869             China Buffet   876 State Rt 11     Champlain    NY   \n",
       "27152                   Valero        1038 Rt 11     Champlain    NY   \n",
       "47513  Sandy's Deli & Catering       133 Lake St  Rouses Point    NY   \n",
       "\n",
       "                                              categories  stars  \n",
       "595    Convenience Stores, Hot Dogs, Gas Stations, Bu...    4.0  \n",
       "9916   Coffee & Tea, Sandwiches, Salad, Food, Restaur...    4.5  \n",
       "22869  Buffets, Restaurants, Szechuan, Chinese, Canto...    2.5  \n",
       "27152  Hot Dogs, Food, Convenience Stores, Gas Statio...    2.5  \n",
       "47513                                 Delis, Restaurants    3.0  "
      ]
     },
     "execution_count": 49,
     "metadata": {},
     "output_type": "execute_result"
    }
   ],
   "source": [
    "yelp_data_df_ny = yelp_data_df_ny[[\"name\", \"address\", \"city\", \"state\", \"categories\", \"stars\"]].copy()\n",
    "yelp_data_df_ny.head()"
   ]
  },
  {
   "cell_type": "markdown",
   "metadata": {},
   "source": [
    "### Connect to local database"
   ]
  },
  {
   "cell_type": "code",
   "execution_count": 27,
   "metadata": {},
   "outputs": [],
   "source": [
    "rds_connection_string = \"postgres:rutgers@localhost:5432/customer_db\"\n",
    "engine = create_engine(f'postgresql://{rds_connection_string}')"
   ]
  },
  {
   "cell_type": "markdown",
   "metadata": {},
   "source": [
    "### Check for tables"
   ]
  },
  {
   "cell_type": "code",
   "execution_count": 28,
   "metadata": {},
   "outputs": [
    {
     "data": {
      "text/plain": [
       "[]"
      ]
     },
     "execution_count": 28,
     "metadata": {},
     "output_type": "execute_result"
    }
   ],
   "source": [
    "engine.table_names()"
   ]
  },
  {
   "cell_type": "markdown",
   "metadata": {},
   "source": [
    "### Use pandas to load csv converted DataFrame into database"
   ]
  },
  {
   "cell_type": "code",
   "execution_count": 29,
   "metadata": {},
   "outputs": [],
   "source": [
    "new_customer_data_df.to_sql(name='customer_name', con=engine, if_exists='append', index=False)"
   ]
  },
  {
   "cell_type": "markdown",
   "metadata": {},
   "source": [
    "### Use pandas to load json converted DataFrame into database"
   ]
  },
  {
   "cell_type": "code",
   "execution_count": 30,
   "metadata": {},
   "outputs": [],
   "source": [
    "new_customer_location_df.to_sql(name='customer_location', con=engine, if_exists='append', index=False)"
   ]
  },
  {
   "cell_type": "markdown",
   "metadata": {},
   "source": [
    "### Confirm data has been added by querying the customer_name table\n",
    "* NOTE: can also check using pgAdmin"
   ]
  },
  {
   "cell_type": "code",
   "execution_count": 31,
   "metadata": {},
   "outputs": [
    {
     "data": {
      "text/html": [
       "<div>\n",
       "<style scoped>\n",
       "    .dataframe tbody tr th:only-of-type {\n",
       "        vertical-align: middle;\n",
       "    }\n",
       "\n",
       "    .dataframe tbody tr th {\n",
       "        vertical-align: top;\n",
       "    }\n",
       "\n",
       "    .dataframe thead th {\n",
       "        text-align: right;\n",
       "    }\n",
       "</style>\n",
       "<table border=\"1\" class=\"dataframe\">\n",
       "  <thead>\n",
       "    <tr style=\"text-align: right;\">\n",
       "      <th></th>\n",
       "      <th>id</th>\n",
       "      <th>first_name</th>\n",
       "      <th>last_name</th>\n",
       "    </tr>\n",
       "  </thead>\n",
       "  <tbody>\n",
       "    <tr>\n",
       "      <th>0</th>\n",
       "      <td>1</td>\n",
       "      <td>Benetta</td>\n",
       "      <td>Cancott</td>\n",
       "    </tr>\n",
       "    <tr>\n",
       "      <th>1</th>\n",
       "      <td>2</td>\n",
       "      <td>Lilyan</td>\n",
       "      <td>Cherry</td>\n",
       "    </tr>\n",
       "    <tr>\n",
       "      <th>2</th>\n",
       "      <td>3</td>\n",
       "      <td>Ezekiel</td>\n",
       "      <td>Benasik</td>\n",
       "    </tr>\n",
       "    <tr>\n",
       "      <th>3</th>\n",
       "      <td>4</td>\n",
       "      <td>Kennedy</td>\n",
       "      <td>Atlay</td>\n",
       "    </tr>\n",
       "    <tr>\n",
       "      <th>4</th>\n",
       "      <td>5</td>\n",
       "      <td>Sanford</td>\n",
       "      <td>Salmen</td>\n",
       "    </tr>\n",
       "  </tbody>\n",
       "</table>\n",
       "</div>"
      ],
      "text/plain": [
       "   id first_name last_name\n",
       "0   1    Benetta   Cancott\n",
       "1   2     Lilyan    Cherry\n",
       "2   3    Ezekiel   Benasik\n",
       "3   4    Kennedy     Atlay\n",
       "4   5    Sanford    Salmen"
      ]
     },
     "execution_count": 31,
     "metadata": {},
     "output_type": "execute_result"
    }
   ],
   "source": [
    "pd.read_sql_query('select * from customer_name', con=engine).head()"
   ]
  },
  {
   "cell_type": "markdown",
   "metadata": {},
   "source": [
    "### Confirm data has been added by querying the customer_location table"
   ]
  },
  {
   "cell_type": "code",
   "execution_count": 32,
   "metadata": {},
   "outputs": [
    {
     "data": {
      "text/html": [
       "<div>\n",
       "<style scoped>\n",
       "    .dataframe tbody tr th:only-of-type {\n",
       "        vertical-align: middle;\n",
       "    }\n",
       "\n",
       "    .dataframe tbody tr th {\n",
       "        vertical-align: top;\n",
       "    }\n",
       "\n",
       "    .dataframe thead th {\n",
       "        text-align: right;\n",
       "    }\n",
       "</style>\n",
       "<table border=\"1\" class=\"dataframe\">\n",
       "  <thead>\n",
       "    <tr style=\"text-align: right;\">\n",
       "      <th></th>\n",
       "      <th>id</th>\n",
       "      <th>address</th>\n",
       "      <th>us_state</th>\n",
       "    </tr>\n",
       "  </thead>\n",
       "  <tbody>\n",
       "    <tr>\n",
       "      <th>0</th>\n",
       "      <td>1</td>\n",
       "      <td>043 Mockingbird Place</td>\n",
       "      <td>Indiana</td>\n",
       "    </tr>\n",
       "    <tr>\n",
       "      <th>1</th>\n",
       "      <td>2</td>\n",
       "      <td>4 Prentice Point</td>\n",
       "      <td>Indiana</td>\n",
       "    </tr>\n",
       "    <tr>\n",
       "      <th>2</th>\n",
       "      <td>3</td>\n",
       "      <td>46 Derek Junction</td>\n",
       "      <td>Texas</td>\n",
       "    </tr>\n",
       "    <tr>\n",
       "      <th>3</th>\n",
       "      <td>4</td>\n",
       "      <td>11966 Old Shore Place</td>\n",
       "      <td>Missouri</td>\n",
       "    </tr>\n",
       "    <tr>\n",
       "      <th>4</th>\n",
       "      <td>5</td>\n",
       "      <td>5 Evergreen Circle</td>\n",
       "      <td>New York</td>\n",
       "    </tr>\n",
       "  </tbody>\n",
       "</table>\n",
       "</div>"
      ],
      "text/plain": [
       "   id                address  us_state\n",
       "0   1  043 Mockingbird Place   Indiana\n",
       "1   2       4 Prentice Point   Indiana\n",
       "2   3      46 Derek Junction     Texas\n",
       "3   4  11966 Old Shore Place  Missouri\n",
       "4   5     5 Evergreen Circle  New York"
      ]
     },
     "execution_count": 32,
     "metadata": {},
     "output_type": "execute_result"
    }
   ],
   "source": [
    "pd.read_sql_query('select * from customer_location', con=engine).head()"
   ]
  },
  {
   "cell_type": "code",
   "execution_count": null,
   "metadata": {},
   "outputs": [],
   "source": []
  }
 ],
 "metadata": {
  "kernelspec": {
   "display_name": "Python 3",
   "language": "python",
   "name": "python3"
  },
  "language_info": {
   "codemirror_mode": {
    "name": "ipython",
    "version": 3
   },
   "file_extension": ".py",
   "mimetype": "text/x-python",
   "name": "python",
   "nbconvert_exporter": "python",
   "pygments_lexer": "ipython3",
   "version": "3.7.3"
  },
  "nteract": {
   "version": "0.12.3"
  }
 },
 "nbformat": 4,
 "nbformat_minor": 2
}
